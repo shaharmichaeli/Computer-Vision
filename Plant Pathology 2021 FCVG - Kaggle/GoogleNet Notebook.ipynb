{
 "cells": [
  {
   "cell_type": "code",
   "execution_count": 1,
   "id": "complete-voluntary",
   "metadata": {
    "_cell_guid": "b1076dfc-b9ad-4769-8c92-a6c4dae69d19",
    "_uuid": "8f2839f25d086af736a60e9eeb907d3b93b6e0e5",
    "execution": {
     "iopub.execute_input": "2021-06-10T08:00:33.738050Z",
     "iopub.status.busy": "2021-06-10T08:00:33.737377Z",
     "iopub.status.idle": "2021-06-10T08:00:40.625964Z",
     "shell.execute_reply": "2021-06-10T08:00:40.624999Z",
     "shell.execute_reply.started": "2021-06-09T17:58:35.987994Z"
    },
    "papermill": {
     "duration": 6.916946,
     "end_time": "2021-06-10T08:00:40.626127",
     "exception": false,
     "start_time": "2021-06-10T08:00:33.709181",
     "status": "completed"
    },
    "tags": []
   },
   "outputs": [],
   "source": [
    "# imports\n",
    "import torch\n",
    "import os\n",
    "from albumentations.pytorch import ToTensorV2\n",
    "import numpy as np\n",
    "import torchvision.models as models\n",
    "import tensorflow as tf\n",
    "from sklearn.preprocessing import MultiLabelBinarizer\n",
    "import matplotlib.pyplot as plt\n",
    "import torch.nn as nn\n",
    "import torchmetrics \n",
    "import torch.nn.functional as F\n",
    "import torch.optim as optim\n",
    "import torchvision\n",
    "import seaborn as sns\n",
    "from sklearn.model_selection import train_test_split\n",
    "from torch.utils.data import Dataset, DataLoader\n",
    "import albumentations as A\n",
    "import pandas as pd\n",
    "import cv2\n",
    "from tqdm import tqdm\n",
    "%matplotlib inline"
   ]
  },
  {
   "cell_type": "code",
   "execution_count": 2,
   "id": "threatened-declaration",
   "metadata": {
    "execution": {
     "iopub.execute_input": "2021-06-10T08:00:40.659746Z",
     "iopub.status.busy": "2021-06-10T08:00:40.658513Z",
     "iopub.status.idle": "2021-06-10T08:00:40.660823Z",
     "shell.execute_reply": "2021-06-10T08:00:40.661230Z",
     "shell.execute_reply.started": "2021-06-09T17:58:43.929981Z"
    },
    "papermill": {
     "duration": 0.020623,
     "end_time": "2021-06-10T08:00:40.661354",
     "exception": false,
     "start_time": "2021-06-10T08:00:40.640731",
     "status": "completed"
    },
    "tags": []
   },
   "outputs": [],
   "source": [
    "# Glboal Variabels.\n",
    "PATH = \"../input/plant-pathology-2021-fgvc8/\"\n",
    "TRAIN_DIR_RESIZED = '../input/resized-plant2021/img_sz_256/'\n",
    "TRAIN_DIR = PATH + 'train_images/'\n",
    "TEST_DIR = PATH + 'test_images/'"
   ]
  },
  {
   "cell_type": "code",
   "execution_count": 3,
   "id": "legal-amplifier",
   "metadata": {
    "execution": {
     "iopub.execute_input": "2021-06-10T08:00:40.694824Z",
     "iopub.status.busy": "2021-06-10T08:00:40.694300Z",
     "iopub.status.idle": "2021-06-10T08:00:40.740324Z",
     "shell.execute_reply": "2021-06-10T08:00:40.740713Z",
     "shell.execute_reply.started": "2021-06-09T17:58:43.939475Z"
    },
    "papermill": {
     "duration": 0.065573,
     "end_time": "2021-06-10T08:00:40.740848",
     "exception": false,
     "start_time": "2021-06-10T08:00:40.675275",
     "status": "completed"
    },
    "tags": []
   },
   "outputs": [
    {
     "data": {
      "text/html": [
       "<div>\n",
       "<style scoped>\n",
       "    .dataframe tbody tr th:only-of-type {\n",
       "        vertical-align: middle;\n",
       "    }\n",
       "\n",
       "    .dataframe tbody tr th {\n",
       "        vertical-align: top;\n",
       "    }\n",
       "\n",
       "    .dataframe thead th {\n",
       "        text-align: right;\n",
       "    }\n",
       "</style>\n",
       "<table border=\"1\" class=\"dataframe\">\n",
       "  <thead>\n",
       "    <tr style=\"text-align: right;\">\n",
       "      <th></th>\n",
       "      <th>image</th>\n",
       "      <th>labels</th>\n",
       "    </tr>\n",
       "  </thead>\n",
       "  <tbody>\n",
       "    <tr>\n",
       "      <th>0</th>\n",
       "      <td>800113bb65efe69e.jpg</td>\n",
       "      <td>healthy</td>\n",
       "    </tr>\n",
       "    <tr>\n",
       "      <th>1</th>\n",
       "      <td>8002cb321f8bfcdf.jpg</td>\n",
       "      <td>scab frog_eye_leaf_spot complex</td>\n",
       "    </tr>\n",
       "    <tr>\n",
       "      <th>2</th>\n",
       "      <td>80070f7fb5e2ccaa.jpg</td>\n",
       "      <td>scab</td>\n",
       "    </tr>\n",
       "    <tr>\n",
       "      <th>3</th>\n",
       "      <td>80077517781fb94f.jpg</td>\n",
       "      <td>scab</td>\n",
       "    </tr>\n",
       "    <tr>\n",
       "      <th>4</th>\n",
       "      <td>800cbf0ff87721f8.jpg</td>\n",
       "      <td>complex</td>\n",
       "    </tr>\n",
       "    <tr>\n",
       "      <th>...</th>\n",
       "      <td>...</td>\n",
       "      <td>...</td>\n",
       "    </tr>\n",
       "    <tr>\n",
       "      <th>18627</th>\n",
       "      <td>fffb900a92289a33.jpg</td>\n",
       "      <td>healthy</td>\n",
       "    </tr>\n",
       "    <tr>\n",
       "      <th>18628</th>\n",
       "      <td>fffc488fa4c0e80c.jpg</td>\n",
       "      <td>scab</td>\n",
       "    </tr>\n",
       "    <tr>\n",
       "      <th>18629</th>\n",
       "      <td>fffc94e092a59086.jpg</td>\n",
       "      <td>rust</td>\n",
       "    </tr>\n",
       "    <tr>\n",
       "      <th>18630</th>\n",
       "      <td>fffe105cf6808292.jpg</td>\n",
       "      <td>scab frog_eye_leaf_spot</td>\n",
       "    </tr>\n",
       "    <tr>\n",
       "      <th>18631</th>\n",
       "      <td>fffe472a0001bd25.jpg</td>\n",
       "      <td>healthy</td>\n",
       "    </tr>\n",
       "  </tbody>\n",
       "</table>\n",
       "<p>18632 rows × 2 columns</p>\n",
       "</div>"
      ],
      "text/plain": [
       "                      image                           labels\n",
       "0      800113bb65efe69e.jpg                          healthy\n",
       "1      8002cb321f8bfcdf.jpg  scab frog_eye_leaf_spot complex\n",
       "2      80070f7fb5e2ccaa.jpg                             scab\n",
       "3      80077517781fb94f.jpg                             scab\n",
       "4      800cbf0ff87721f8.jpg                          complex\n",
       "...                     ...                              ...\n",
       "18627  fffb900a92289a33.jpg                          healthy\n",
       "18628  fffc488fa4c0e80c.jpg                             scab\n",
       "18629  fffc94e092a59086.jpg                             rust\n",
       "18630  fffe105cf6808292.jpg          scab frog_eye_leaf_spot\n",
       "18631  fffe472a0001bd25.jpg                          healthy\n",
       "\n",
       "[18632 rows x 2 columns]"
      ]
     },
     "execution_count": 3,
     "metadata": {},
     "output_type": "execute_result"
    }
   ],
   "source": [
    "train_dataframe_csv = pd.read_csv(PATH + \"train.csv\")\n",
    "train_dataframe_csv"
   ]
  },
  {
   "cell_type": "code",
   "execution_count": 4,
   "id": "median-cholesterol",
   "metadata": {
    "execution": {
     "iopub.execute_input": "2021-06-10T08:00:40.799772Z",
     "iopub.status.busy": "2021-06-10T08:00:40.794636Z",
     "iopub.status.idle": "2021-06-10T08:00:40.814382Z",
     "shell.execute_reply": "2021-06-10T08:00:40.813995Z",
     "shell.execute_reply.started": "2021-06-09T17:58:43.99407Z"
    },
    "papermill": {
     "duration": 0.059014,
     "end_time": "2021-06-10T08:00:40.814513",
     "exception": false,
     "start_time": "2021-06-10T08:00:40.755499",
     "status": "completed"
    },
    "tags": []
   },
   "outputs": [],
   "source": [
    "mlb = MultiLabelBinarizer()\n",
    "train_dataframe_csv['labels'] = [x.split(' ') for x in train_dataframe_csv['labels']]\n",
    "OneHotEncoder_Labels = mlb.fit_transform(train_dataframe_csv[\"labels\"])"
   ]
  },
  {
   "cell_type": "code",
   "execution_count": 5,
   "id": "responsible-homework",
   "metadata": {
    "execution": {
     "iopub.execute_input": "2021-06-10T08:00:40.847376Z",
     "iopub.status.busy": "2021-06-10T08:00:40.846643Z",
     "iopub.status.idle": "2021-06-10T08:00:41.217696Z",
     "shell.execute_reply": "2021-06-10T08:00:41.218092Z",
     "shell.execute_reply.started": "2021-06-09T17:58:44.039558Z"
    },
    "papermill": {
     "duration": 0.389384,
     "end_time": "2021-06-10T08:00:41.218231",
     "exception": false,
     "start_time": "2021-06-10T08:00:40.828847",
     "status": "completed"
    },
    "tags": []
   },
   "outputs": [
    {
     "data": {
      "text/html": [
       "<div>\n",
       "<style scoped>\n",
       "    .dataframe tbody tr th:only-of-type {\n",
       "        vertical-align: middle;\n",
       "    }\n",
       "\n",
       "    .dataframe tbody tr th {\n",
       "        vertical-align: top;\n",
       "    }\n",
       "\n",
       "    .dataframe thead th {\n",
       "        text-align: right;\n",
       "    }\n",
       "</style>\n",
       "<table border=\"1\" class=\"dataframe\">\n",
       "  <thead>\n",
       "    <tr style=\"text-align: right;\">\n",
       "      <th></th>\n",
       "      <th>image</th>\n",
       "      <th>labels</th>\n",
       "    </tr>\n",
       "  </thead>\n",
       "  <tbody>\n",
       "    <tr>\n",
       "      <th>0</th>\n",
       "      <td>800113bb65efe69e.jpg</td>\n",
       "      <td>[0, 0, 0, 0, 0]</td>\n",
       "    </tr>\n",
       "    <tr>\n",
       "      <th>1</th>\n",
       "      <td>8002cb321f8bfcdf.jpg</td>\n",
       "      <td>[1, 1, 0, 0, 1]</td>\n",
       "    </tr>\n",
       "    <tr>\n",
       "      <th>2</th>\n",
       "      <td>80070f7fb5e2ccaa.jpg</td>\n",
       "      <td>[0, 0, 0, 0, 1]</td>\n",
       "    </tr>\n",
       "    <tr>\n",
       "      <th>3</th>\n",
       "      <td>80077517781fb94f.jpg</td>\n",
       "      <td>[0, 0, 0, 0, 1]</td>\n",
       "    </tr>\n",
       "    <tr>\n",
       "      <th>4</th>\n",
       "      <td>800cbf0ff87721f8.jpg</td>\n",
       "      <td>[1, 0, 0, 0, 0]</td>\n",
       "    </tr>\n",
       "    <tr>\n",
       "      <th>...</th>\n",
       "      <td>...</td>\n",
       "      <td>...</td>\n",
       "    </tr>\n",
       "    <tr>\n",
       "      <th>18627</th>\n",
       "      <td>fffb900a92289a33.jpg</td>\n",
       "      <td>[0, 0, 0, 0, 0]</td>\n",
       "    </tr>\n",
       "    <tr>\n",
       "      <th>18628</th>\n",
       "      <td>fffc488fa4c0e80c.jpg</td>\n",
       "      <td>[0, 0, 0, 0, 1]</td>\n",
       "    </tr>\n",
       "    <tr>\n",
       "      <th>18629</th>\n",
       "      <td>fffc94e092a59086.jpg</td>\n",
       "      <td>[0, 0, 0, 1, 0]</td>\n",
       "    </tr>\n",
       "    <tr>\n",
       "      <th>18630</th>\n",
       "      <td>fffe105cf6808292.jpg</td>\n",
       "      <td>[0, 1, 0, 0, 1]</td>\n",
       "    </tr>\n",
       "    <tr>\n",
       "      <th>18631</th>\n",
       "      <td>fffe472a0001bd25.jpg</td>\n",
       "      <td>[0, 0, 0, 0, 0]</td>\n",
       "    </tr>\n",
       "  </tbody>\n",
       "</table>\n",
       "<p>18632 rows × 2 columns</p>\n",
       "</div>"
      ],
      "text/plain": [
       "                      image           labels\n",
       "0      800113bb65efe69e.jpg  [0, 0, 0, 0, 0]\n",
       "1      8002cb321f8bfcdf.jpg  [1, 1, 0, 0, 1]\n",
       "2      80070f7fb5e2ccaa.jpg  [0, 0, 0, 0, 1]\n",
       "3      80077517781fb94f.jpg  [0, 0, 0, 0, 1]\n",
       "4      800cbf0ff87721f8.jpg  [1, 0, 0, 0, 0]\n",
       "...                     ...              ...\n",
       "18627  fffb900a92289a33.jpg  [0, 0, 0, 0, 0]\n",
       "18628  fffc488fa4c0e80c.jpg  [0, 0, 0, 0, 1]\n",
       "18629  fffc94e092a59086.jpg  [0, 0, 0, 1, 0]\n",
       "18630  fffe105cf6808292.jpg  [0, 1, 0, 0, 1]\n",
       "18631  fffe472a0001bd25.jpg  [0, 0, 0, 0, 0]\n",
       "\n",
       "[18632 rows x 2 columns]"
      ]
     },
     "execution_count": 5,
     "metadata": {},
     "output_type": "execute_result"
    }
   ],
   "source": [
    "for i in range(len(train_dataframe_csv)):\n",
    "    train_dataframe_csv.at[i,'labels'] = np.delete(OneHotEncoder_Labels[i],2)\n",
    "    \n",
    "train_dataframe_csv"
   ]
  },
  {
   "cell_type": "code",
   "execution_count": 6,
   "id": "employed-commonwealth",
   "metadata": {
    "execution": {
     "iopub.execute_input": "2021-06-10T08:00:41.253985Z",
     "iopub.status.busy": "2021-06-10T08:00:41.252747Z",
     "iopub.status.idle": "2021-06-10T08:00:41.256330Z",
     "shell.execute_reply": "2021-06-10T08:00:41.256760Z",
     "shell.execute_reply.started": "2021-06-09T17:58:44.517656Z"
    },
    "papermill": {
     "duration": 0.023335,
     "end_time": "2021-06-10T08:00:41.256879",
     "exception": false,
     "start_time": "2021-06-10T08:00:41.233544",
     "status": "completed"
    },
    "tags": []
   },
   "outputs": [
    {
     "name": "stdout",
     "output_type": "stream",
     "text": [
      "['complex' 'frog_eye_leaf_spot' 'healthy' 'powdery_mildew' 'rust' 'scab']\n"
     ]
    }
   ],
   "source": [
    "# labels_dict = dict(zip(list(train_dataframe_csv['labels'].value_counts().keys()), range(12)))\n",
    "# print(labels_dict)\n",
    "print(mlb.classes_)"
   ]
  },
  {
   "cell_type": "code",
   "execution_count": 7,
   "id": "serial-gothic",
   "metadata": {
    "execution": {
     "iopub.execute_input": "2021-06-10T08:00:41.290557Z",
     "iopub.status.busy": "2021-06-10T08:00:41.290039Z",
     "iopub.status.idle": "2021-06-10T08:00:41.543972Z",
     "shell.execute_reply": "2021-06-10T08:00:41.543152Z",
     "shell.execute_reply.started": "2021-06-09T17:58:44.530618Z"
    },
    "papermill": {
     "duration": 0.2721,
     "end_time": "2021-06-10T08:00:41.544093",
     "exception": false,
     "start_time": "2021-06-10T08:00:41.271993",
     "status": "completed"
    },
    "tags": []
   },
   "outputs": [
    {
     "data": {
      "text/html": [
       "<div>\n",
       "<style scoped>\n",
       "    .dataframe tbody tr th:only-of-type {\n",
       "        vertical-align: middle;\n",
       "    }\n",
       "\n",
       "    .dataframe tbody tr th {\n",
       "        vertical-align: top;\n",
       "    }\n",
       "\n",
       "    .dataframe thead th {\n",
       "        text-align: right;\n",
       "    }\n",
       "</style>\n",
       "<table border=\"1\" class=\"dataframe\">\n",
       "  <thead>\n",
       "    <tr style=\"text-align: right;\">\n",
       "      <th></th>\n",
       "      <th>image</th>\n",
       "      <th>labels</th>\n",
       "    </tr>\n",
       "  </thead>\n",
       "  <tbody>\n",
       "    <tr>\n",
       "      <th>0</th>\n",
       "      <td>../input/resized-plant2021/img_sz_256/800113bb...</td>\n",
       "      <td>[0, 0, 0, 0, 0]</td>\n",
       "    </tr>\n",
       "    <tr>\n",
       "      <th>1</th>\n",
       "      <td>../input/resized-plant2021/img_sz_256/8002cb32...</td>\n",
       "      <td>[1, 1, 0, 0, 1]</td>\n",
       "    </tr>\n",
       "    <tr>\n",
       "      <th>2</th>\n",
       "      <td>../input/resized-plant2021/img_sz_256/80070f7f...</td>\n",
       "      <td>[0, 0, 0, 0, 1]</td>\n",
       "    </tr>\n",
       "    <tr>\n",
       "      <th>3</th>\n",
       "      <td>../input/resized-plant2021/img_sz_256/80077517...</td>\n",
       "      <td>[0, 0, 0, 0, 1]</td>\n",
       "    </tr>\n",
       "    <tr>\n",
       "      <th>4</th>\n",
       "      <td>../input/resized-plant2021/img_sz_256/800cbf0f...</td>\n",
       "      <td>[1, 0, 0, 0, 0]</td>\n",
       "    </tr>\n",
       "    <tr>\n",
       "      <th>...</th>\n",
       "      <td>...</td>\n",
       "      <td>...</td>\n",
       "    </tr>\n",
       "    <tr>\n",
       "      <th>18627</th>\n",
       "      <td>../input/resized-plant2021/img_sz_256/fffb900a...</td>\n",
       "      <td>[0, 0, 0, 0, 0]</td>\n",
       "    </tr>\n",
       "    <tr>\n",
       "      <th>18628</th>\n",
       "      <td>../input/resized-plant2021/img_sz_256/fffc488f...</td>\n",
       "      <td>[0, 0, 0, 0, 1]</td>\n",
       "    </tr>\n",
       "    <tr>\n",
       "      <th>18629</th>\n",
       "      <td>../input/resized-plant2021/img_sz_256/fffc94e0...</td>\n",
       "      <td>[0, 0, 0, 1, 0]</td>\n",
       "    </tr>\n",
       "    <tr>\n",
       "      <th>18630</th>\n",
       "      <td>../input/resized-plant2021/img_sz_256/fffe105c...</td>\n",
       "      <td>[0, 1, 0, 0, 1]</td>\n",
       "    </tr>\n",
       "    <tr>\n",
       "      <th>18631</th>\n",
       "      <td>../input/resized-plant2021/img_sz_256/fffe472a...</td>\n",
       "      <td>[0, 0, 0, 0, 0]</td>\n",
       "    </tr>\n",
       "  </tbody>\n",
       "</table>\n",
       "<p>18632 rows × 2 columns</p>\n",
       "</div>"
      ],
      "text/plain": [
       "                                                   image           labels\n",
       "0      ../input/resized-plant2021/img_sz_256/800113bb...  [0, 0, 0, 0, 0]\n",
       "1      ../input/resized-plant2021/img_sz_256/8002cb32...  [1, 1, 0, 0, 1]\n",
       "2      ../input/resized-plant2021/img_sz_256/80070f7f...  [0, 0, 0, 0, 1]\n",
       "3      ../input/resized-plant2021/img_sz_256/80077517...  [0, 0, 0, 0, 1]\n",
       "4      ../input/resized-plant2021/img_sz_256/800cbf0f...  [1, 0, 0, 0, 0]\n",
       "...                                                  ...              ...\n",
       "18627  ../input/resized-plant2021/img_sz_256/fffb900a...  [0, 0, 0, 0, 0]\n",
       "18628  ../input/resized-plant2021/img_sz_256/fffc488f...  [0, 0, 0, 0, 1]\n",
       "18629  ../input/resized-plant2021/img_sz_256/fffc94e0...  [0, 0, 0, 1, 0]\n",
       "18630  ../input/resized-plant2021/img_sz_256/fffe105c...  [0, 1, 0, 0, 1]\n",
       "18631  ../input/resized-plant2021/img_sz_256/fffe472a...  [0, 0, 0, 0, 0]\n",
       "\n",
       "[18632 rows x 2 columns]"
      ]
     },
     "execution_count": 7,
     "metadata": {},
     "output_type": "execute_result"
    }
   ],
   "source": [
    "train_dataframe_csv['image'] = train_dataframe_csv.apply(lambda row: TRAIN_DIR_RESIZED + row.image , axis=1)\n",
    "# train_dataframe_csv[\"labels\"] = train_dataframe_csv[\"labels\"].apply(lambda x:x.split(\" \"))\n",
    "# train_dataframe_csv[\"labels\"] = train_dataframe_csv[\"labels\"].apply(lambda x:labels_dict[x])\n",
    "train_dataframe_csv"
   ]
  },
  {
   "cell_type": "code",
   "execution_count": 8,
   "id": "involved-partnership",
   "metadata": {
    "execution": {
     "iopub.execute_input": "2021-06-10T08:00:41.579813Z",
     "iopub.status.busy": "2021-06-10T08:00:41.579286Z",
     "iopub.status.idle": "2021-06-10T08:00:41.591322Z",
     "shell.execute_reply": "2021-06-10T08:00:41.590945Z",
     "shell.execute_reply.started": "2021-06-09T17:58:44.905391Z"
    },
    "papermill": {
     "duration": 0.031676,
     "end_time": "2021-06-10T08:00:41.591450",
     "exception": false,
     "start_time": "2021-06-10T08:00:41.559774",
     "status": "completed"
    },
    "tags": []
   },
   "outputs": [
    {
     "data": {
      "text/html": [
       "<div>\n",
       "<style scoped>\n",
       "    .dataframe tbody tr th:only-of-type {\n",
       "        vertical-align: middle;\n",
       "    }\n",
       "\n",
       "    .dataframe tbody tr th {\n",
       "        vertical-align: top;\n",
       "    }\n",
       "\n",
       "    .dataframe thead th {\n",
       "        text-align: right;\n",
       "    }\n",
       "</style>\n",
       "<table border=\"1\" class=\"dataframe\">\n",
       "  <thead>\n",
       "    <tr style=\"text-align: right;\">\n",
       "      <th></th>\n",
       "      <th>image</th>\n",
       "      <th>labels</th>\n",
       "    </tr>\n",
       "  </thead>\n",
       "  <tbody>\n",
       "    <tr>\n",
       "      <th>0</th>\n",
       "      <td>../input/plant-pathology-2021-fgvc8/test_image...</td>\n",
       "      <td>healthy</td>\n",
       "    </tr>\n",
       "    <tr>\n",
       "      <th>1</th>\n",
       "      <td>../input/plant-pathology-2021-fgvc8/test_image...</td>\n",
       "      <td>healthy</td>\n",
       "    </tr>\n",
       "    <tr>\n",
       "      <th>2</th>\n",
       "      <td>../input/plant-pathology-2021-fgvc8/test_image...</td>\n",
       "      <td>healthy</td>\n",
       "    </tr>\n",
       "  </tbody>\n",
       "</table>\n",
       "</div>"
      ],
      "text/plain": [
       "                                               image   labels\n",
       "0  ../input/plant-pathology-2021-fgvc8/test_image...  healthy\n",
       "1  ../input/plant-pathology-2021-fgvc8/test_image...  healthy\n",
       "2  ../input/plant-pathology-2021-fgvc8/test_image...  healthy"
      ]
     },
     "execution_count": 8,
     "metadata": {},
     "output_type": "execute_result"
    }
   ],
   "source": [
    "test_dataframe_csv = pd.read_csv(PATH + \"sample_submission.csv\")\n",
    "test_dataframe_csv['image'] = test_dataframe_csv.apply(lambda row: TEST_DIR + row.image , axis=1)\n",
    "\n",
    "test_dataframe_csv"
   ]
  },
  {
   "cell_type": "code",
   "execution_count": 9,
   "id": "finite-backup",
   "metadata": {
    "execution": {
     "iopub.execute_input": "2021-06-10T08:00:41.631083Z",
     "iopub.status.busy": "2021-06-10T08:00:41.630342Z",
     "iopub.status.idle": "2021-06-10T08:00:41.632930Z",
     "shell.execute_reply": "2021-06-10T08:00:41.632546Z",
     "shell.execute_reply.started": "2021-06-09T17:58:44.925427Z"
    },
    "papermill": {
     "duration": 0.025823,
     "end_time": "2021-06-10T08:00:41.633033",
     "exception": false,
     "start_time": "2021-06-10T08:00:41.607210",
     "status": "completed"
    },
    "tags": []
   },
   "outputs": [],
   "source": [
    "class FocalLoss(nn.Module):\n",
    "    def __init__(self, alpha=0.2, gamma=2, logist=False, reduce='mean'):\n",
    "        super(FocalLoss, self).__init__()\n",
    "        self.alpha = alpha # the scalar factor between 0 and 1 \n",
    "        self.gamma = gamma # focusing parameter(always positive) that reduces the relative loss for well-classified examples and puts more focus on hard misclassified examples\n",
    "        self.cross_entropy_loss = nn.CrossEntropyLoss()\n",
    "        #self.logist = logist # log probabilities \n",
    "        self.reduce = reduce # Specifies the reduction to apply to the output - none/mean/sum. ‘none’: no reduction will be applied, ‘mean’: the sum of the output will be divided by the number of elements in the output, ‘sum’: the output will be summed.\n",
    "\n",
    "    def forward(self, inputs, targets):\n",
    "        BCE_loss = self.cross_entropy_loss(inputs, targets)\n",
    "        pt = torch.exp(-BCE_loss)\n",
    "        F_loss = self.alpha * (1-pt)**self.gamma * BCE_loss\n",
    "\n",
    "        if self.reduce:\n",
    "            return torch.mean(F_loss)\n",
    "        else:\n",
    "            return F_loss\n",
    "        \n",
    "class AverageMeter(object):\n",
    "    def __init__(self):\n",
    "        self.reset()\n",
    "\n",
    "    def reset(self):\n",
    "        self.val = 0\n",
    "        self.avg = 0\n",
    "        self.sum = 0\n",
    "        self.count = 0\n",
    "\n",
    "    def update(self, val, n=1):\n",
    "        self.val = val\n",
    "        self.sum += val * n\n",
    "        self.count += n\n",
    "        self.avg = self.sum / self.count"
   ]
  },
  {
   "cell_type": "code",
   "execution_count": 10,
   "id": "specific-closing",
   "metadata": {
    "execution": {
     "iopub.execute_input": "2021-06-10T08:00:41.672714Z",
     "iopub.status.busy": "2021-06-10T08:00:41.672089Z",
     "iopub.status.idle": "2021-06-10T08:00:41.675142Z",
     "shell.execute_reply": "2021-06-10T08:00:41.674745Z",
     "shell.execute_reply.started": "2021-06-09T17:58:44.936803Z"
    },
    "papermill": {
     "duration": 0.02645,
     "end_time": "2021-06-10T08:00:41.675245",
     "exception": false,
     "start_time": "2021-06-10T08:00:41.648795",
     "status": "completed"
    },
    "tags": []
   },
   "outputs": [],
   "source": [
    "class PlantDataset(Dataset):\n",
    "    def __init__(self, df, transform=None):\n",
    "        self.images = df['image'].values\n",
    "        self.labels = df['labels'].values\n",
    "        self.transform = transform\n",
    "\n",
    "    def __len__(self):\n",
    "        return len(self.labels)\n",
    "\n",
    "    def __getitem__(self, idx):\n",
    "        image_path = self.images[idx]\n",
    "        label = self.labels[idx]\n",
    "        image = cv2.imread(image_path,cv2.COLOR_BGR2RGB)\n",
    "        image = cv2.resize(image,(224,224))\n",
    "        if self.transform is not None:\n",
    "            augmented = self.transform(image=image)\n",
    "            image = augmented['image']\n",
    "        return image,label\n",
    "    \n",
    "def get_transform(phase: str):\n",
    "    if phase == 'train':\n",
    "        return A.Compose([\n",
    "            A.RandomResizedCrop(height=224, width=224),\n",
    "            A.HorizontalFlip(p=0.5),\n",
    "            A.ShiftScaleRotate(p=0.5),\n",
    "            A.RandomBrightnessContrast(p=0.5),\n",
    "            A.Normalize(),\n",
    "            ToTensorV2(),\n",
    "        ])\n",
    "    else:\n",
    "        return A.Compose([\n",
    "            A.Resize(height=224, width=224),\n",
    "            A.Normalize(),\n",
    "            ToTensorV2(),\n",
    "        ])"
   ]
  },
  {
   "cell_type": "code",
   "execution_count": 11,
   "id": "experienced-textbook",
   "metadata": {
    "execution": {
     "iopub.execute_input": "2021-06-10T08:00:41.713147Z",
     "iopub.status.busy": "2021-06-10T08:00:41.712397Z",
     "iopub.status.idle": "2021-06-10T08:00:41.715066Z",
     "shell.execute_reply": "2021-06-10T08:00:41.714668Z",
     "shell.execute_reply.started": "2021-06-09T17:58:44.950987Z"
    },
    "papermill": {
     "duration": 0.024202,
     "end_time": "2021-06-10T08:00:41.715171",
     "exception": false,
     "start_time": "2021-06-10T08:00:41.690969",
     "status": "completed"
    },
    "tags": []
   },
   "outputs": [],
   "source": [
    "images_train, images_valid, labels_train, labels_valid = train_test_split(train_dataframe_csv['image'].values, train_dataframe_csv['labels'].values, test_size=0.2)"
   ]
  },
  {
   "cell_type": "code",
   "execution_count": 12,
   "id": "acknowledged-better",
   "metadata": {
    "execution": {
     "iopub.execute_input": "2021-06-10T08:00:41.755215Z",
     "iopub.status.busy": "2021-06-10T08:00:41.754504Z",
     "iopub.status.idle": "2021-06-10T08:00:41.756759Z",
     "shell.execute_reply": "2021-06-10T08:00:41.757157Z",
     "shell.execute_reply.started": "2021-06-09T17:58:44.968646Z"
    },
    "papermill": {
     "duration": 0.026361,
     "end_time": "2021-06-10T08:00:41.757271",
     "exception": false,
     "start_time": "2021-06-10T08:00:41.730910",
     "status": "completed"
    },
    "tags": []
   },
   "outputs": [],
   "source": [
    "train_dataframe = pd.DataFrame(data = {'image': images_train,'labels':labels_train})\n",
    "valid_dataframe = pd.DataFrame(data = {'image': images_valid,'labels':labels_valid})"
   ]
  },
  {
   "cell_type": "code",
   "execution_count": 13,
   "id": "fixed-charlotte",
   "metadata": {
    "execution": {
     "iopub.execute_input": "2021-06-10T08:00:41.794622Z",
     "iopub.status.busy": "2021-06-10T08:00:41.793992Z",
     "iopub.status.idle": "2021-06-10T08:00:41.796712Z",
     "shell.execute_reply": "2021-06-10T08:00:41.796213Z",
     "shell.execute_reply.started": "2021-06-09T17:58:44.980818Z"
    },
    "papermill": {
     "duration": 0.023657,
     "end_time": "2021-06-10T08:00:41.796811",
     "exception": false,
     "start_time": "2021-06-10T08:00:41.773154",
     "status": "completed"
    },
    "tags": []
   },
   "outputs": [],
   "source": [
    "train_dataset = PlantDataset(train_dataframe, get_transform('train'))\n",
    "valid_dataset = PlantDataset(valid_dataframe, get_transform('valid'))\n",
    "\n",
    "BatchSize = 256\n",
    "train_loader = DataLoader(train_dataset, batch_size=BatchSize, shuffle=True, num_workers=1)\n",
    "valid_loader = DataLoader(train_dataset, batch_size=BatchSize, shuffle=True, num_workers=1)"
   ]
  },
  {
   "cell_type": "code",
   "execution_count": 14,
   "id": "atmospheric-participation",
   "metadata": {
    "execution": {
     "iopub.execute_input": "2021-06-10T08:00:41.835645Z",
     "iopub.status.busy": "2021-06-10T08:00:41.834984Z",
     "iopub.status.idle": "2021-06-10T08:00:41.837317Z",
     "shell.execute_reply": "2021-06-10T08:00:41.837746Z",
     "shell.execute_reply.started": "2021-06-09T17:58:44.993272Z"
    },
    "papermill": {
     "duration": 0.025185,
     "end_time": "2021-06-10T08:00:41.837860",
     "exception": false,
     "start_time": "2021-06-10T08:00:41.812675",
     "status": "completed"
    },
    "tags": []
   },
   "outputs": [],
   "source": [
    "def train(dataloader,model,optimizer,epoch, lossFunction):\n",
    "    F1metric = torchmetrics.F1(5, average='weighted')\n",
    "    sigmoid = nn.Sigmoid()\n",
    "    model.train()\n",
    "    \n",
    "    \n",
    "    acc = AverageMeter()\n",
    "    losses = AverageMeter()\n",
    "    accuracies = 0\n",
    "    loss_accumlated = 0\n",
    "    for x_batch, y_batch in dataloader:\n",
    "        optimizer.zero_grad()\n",
    "        x_batch = x_batch.float().cuda()\n",
    "        y_batch = y_batch.float().cuda()\n",
    "        output = model(x_batch)\n",
    "#         x_batch = x_batch.float()\n",
    "#         y_batch = y_batch.long()\n",
    "\n",
    "#         output = model(x_batch)\n",
    "#         output = F.softmax(output)\n",
    "        loss = lossFunction(output, y_batch)\n",
    "\n",
    "        loss.backward()\n",
    "        losses.update(loss.item(),x_batch.size(0))\n",
    "        loss_accumlated += loss.item()\n",
    "        optimizer.step()\n",
    "#         accuracy = torchmetrics.functional.accuracy(output,y_batch.long()) \n",
    "        accuracy = F1metric(sigmoid(output).to('cpu'),y_batch.to('cpu'))\n",
    "\n",
    "        accuracies += accuracy\n",
    "        acc.update(accuracy, x_batch.size(0))\n",
    "        del x_batch\n",
    "        del y_batch\n",
    "        torch.cuda.empty_cache()\n",
    "\n",
    "    return losses.avg,acc.avg*100"
   ]
  },
  {
   "cell_type": "code",
   "execution_count": 15,
   "id": "aging-billy",
   "metadata": {
    "execution": {
     "iopub.execute_input": "2021-06-10T08:00:41.876333Z",
     "iopub.status.busy": "2021-06-10T08:00:41.875644Z",
     "iopub.status.idle": "2021-06-10T08:00:41.878188Z",
     "shell.execute_reply": "2021-06-10T08:00:41.877789Z",
     "shell.execute_reply.started": "2021-06-09T17:58:45.006529Z"
    },
    "papermill": {
     "duration": 0.024736,
     "end_time": "2021-06-10T08:00:41.878283",
     "exception": false,
     "start_time": "2021-06-10T08:00:41.853547",
     "status": "completed"
    },
    "tags": []
   },
   "outputs": [],
   "source": [
    "def validation(dataloader,model,optimizer,epoch, lossFunction):\n",
    "    F1metric = torchmetrics.F1(5, average='weighted')\n",
    "    sigmoid = nn.Sigmoid()    \n",
    "    \n",
    "    model.eval()\n",
    "    acc = AverageMeter()\n",
    "    losses = AverageMeter()\n",
    "    loss_accumlated = 0\n",
    "    accuracies = 0\n",
    "\n",
    "    with torch.no_grad():\n",
    "        for x_batch, y_batch in dataloader:\n",
    "            x_batch = x_batch.float().cuda()\n",
    "            y_batch = y_batch.float().cuda()\n",
    "            output = model(x_batch)\n",
    "#             output = F.softmax(output)\n",
    "            loss = lossFunction(output, y_batch)\n",
    "\n",
    "            losses.update(loss.item(), x_batch.size(0))\n",
    "            loss_accumlated += loss.item()\n",
    "            accuracy = F1metric(sigmoid(output).to('cpu'),y_batch.to('cpu'))\n",
    "            accuracies += accuracy\n",
    "            acc.update(accuracy, x_batch.size(0))\n",
    "            del x_batch\n",
    "            del y_batch\n",
    "            torch.cuda.empty_cache()\n",
    "        \n",
    "    return losses.avg,acc.avg*100"
   ]
  },
  {
   "cell_type": "code",
   "execution_count": 16,
   "id": "adolescent-chemical",
   "metadata": {
    "execution": {
     "iopub.execute_input": "2021-06-10T08:00:41.914475Z",
     "iopub.status.busy": "2021-06-10T08:00:41.913959Z",
     "iopub.status.idle": "2021-06-10T08:00:50.014438Z",
     "shell.execute_reply": "2021-06-10T08:00:50.013972Z",
     "shell.execute_reply.started": "2021-06-09T17:58:45.019567Z"
    },
    "papermill": {
     "duration": 8.120478,
     "end_time": "2021-06-10T08:00:50.014566",
     "exception": false,
     "start_time": "2021-06-10T08:00:41.894088",
     "status": "completed"
    },
    "tags": []
   },
   "outputs": [
    {
     "name": "stderr",
     "output_type": "stream",
     "text": [
      "Downloading: \"https://download.pytorch.org/models/googlenet-1378be20.pth\" to /root/.cache/torch/hub/checkpoints/googlenet-1378be20.pth\n"
     ]
    },
    {
     "data": {
      "application/vnd.jupyter.widget-view+json": {
       "model_id": "24640c084e634999beb8641dcca1d2e2",
       "version_major": 2,
       "version_minor": 0
      },
      "text/plain": [
       "  0%|          | 0.00/49.7M [00:00<?, ?B/s]"
      ]
     },
     "metadata": {},
     "output_type": "display_data"
    }
   ],
   "source": [
    "googlenet_model = models.googlenet(pretrained=True)\n",
    "in_features = googlenet_model.fc.in_features\n",
    "googlenet_model.fc = torch.nn.Linear(in_features, 5)\n",
    "googlenet_model = googlenet_model.cuda()\n",
    "\n",
    "opt = optim.Adam(googlenet_model.parameters())\n",
    "# opt = optim.Adagrad(googlenet_model.parameters())\n",
    "criterion = nn.BCEWithLogitsLoss()\n"
   ]
  },
  {
   "cell_type": "code",
   "execution_count": 17,
   "id": "technical-fundamentals",
   "metadata": {
    "execution": {
     "iopub.execute_input": "2021-06-10T08:00:50.055396Z",
     "iopub.status.busy": "2021-06-10T08:00:50.054670Z",
     "iopub.status.idle": "2021-06-10T13:53:46.784874Z",
     "shell.execute_reply": "2021-06-10T13:53:46.783587Z",
     "shell.execute_reply.started": "2021-06-09T17:58:51.794895Z"
    },
    "papermill": {
     "duration": 21176.753481,
     "end_time": "2021-06-10T13:53:46.785011",
     "exception": false,
     "start_time": "2021-06-10T08:00:50.031530",
     "status": "completed"
    },
    "tags": []
   },
   "outputs": [
    {
     "name": "stderr",
     "output_type": "stream",
     "text": [
      "Epoch: 100%|██████████| 150/150 [5:52:56<00:00, 141.18s/it]\n"
     ]
    }
   ],
   "source": [
    "losses_train = []\n",
    "losses_valid = []\n",
    "accs_train = []\n",
    "accs_valid = []\n",
    "EPOCHS = 150\n",
    "\n",
    "for e in tqdm(range(EPOCHS),desc=\"Epoch\", position=0):\n",
    "    loss_train,acc_train = train(train_loader,googlenet_model,opt,e,criterion)\n",
    "    losses_train.append(loss_train)\n",
    "    accs_train.append(acc_train)\n",
    "\n",
    "    loss_valid,acc_valid = validation(valid_loader,googlenet_model,opt,e,criterion)\n",
    "    losses_valid.append(loss_valid)\n",
    "    accs_valid.append(acc_valid)"
   ]
  },
  {
   "cell_type": "code",
   "execution_count": 18,
   "id": "upper-folder",
   "metadata": {
    "execution": {
     "iopub.execute_input": "2021-06-10T13:53:46.917324Z",
     "iopub.status.busy": "2021-06-10T13:53:46.916282Z",
     "iopub.status.idle": "2021-06-10T13:53:47.171702Z",
     "shell.execute_reply": "2021-06-10T13:53:47.171275Z",
     "shell.execute_reply.started": "2021-06-09T18:02:08.180238Z"
    },
    "papermill": {
     "duration": 0.331667,
     "end_time": "2021-06-10T13:53:47.171822",
     "exception": false,
     "start_time": "2021-06-10T13:53:46.840155",
     "status": "completed"
    },
    "tags": []
   },
   "outputs": [
    {
     "data": {
      "text/plain": [
       "[<matplotlib.lines.Line2D at 0x7fbfcea514d0>]"
      ]
     },
     "execution_count": 18,
     "metadata": {},
     "output_type": "execute_result"
    },
    {
     "data": {
      "text/plain": [
       "<Figure size 432x288 with 0 Axes>"
      ]
     },
     "metadata": {},
     "output_type": "display_data"
    },
    {
     "data": {
      "image/png": "[encoded data removed]",
      "text/plain": [
       "<Figure size 1080x576 with 2 Axes>"
      ]
     },
     "metadata": {
      "needs_background": "light"
     },
     "output_type": "display_data"
    }
   ],
   "source": [
    "plt.suptitle(\"Train\")\n",
    "\n",
    "plt.figure(figsize=(15,8))\n",
    "plt.subplot(1, 2, 1)\n",
    "plt.title(\"Train Loss\")\n",
    "plt.plot(losses_train)\n",
    "\n",
    "plt.subplot(1, 2, 2)\n",
    "plt.title(\"Train Accuracy\")\n",
    "plt.plot(accs_train)"
   ]
  },
  {
   "cell_type": "code",
   "execution_count": 19,
   "id": "basic-retrieval",
   "metadata": {
    "execution": {
     "iopub.execute_input": "2021-06-10T13:53:47.307255Z",
     "iopub.status.busy": "2021-06-10T13:53:47.299665Z",
     "iopub.status.idle": "2021-06-10T13:53:47.531224Z",
     "shell.execute_reply": "2021-06-10T13:53:47.531640Z",
     "shell.execute_reply.started": "2021-06-09T18:02:08.43169Z"
    },
    "papermill": {
     "duration": 0.301785,
     "end_time": "2021-06-10T13:53:47.531772",
     "exception": false,
     "start_time": "2021-06-10T13:53:47.229987",
     "status": "completed"
    },
    "tags": []
   },
   "outputs": [
    {
     "data": {
      "text/plain": [
       "[<matplotlib.lines.Line2D at 0x7fbfce835c50>]"
      ]
     },
     "execution_count": 19,
     "metadata": {},
     "output_type": "execute_result"
    },
    {
     "data": {
      "text/plain": [
       "<Figure size 432x288 with 0 Axes>"
      ]
     },
     "metadata": {},
     "output_type": "display_data"
    },
    {
     "data": {
      "image/png": "[encoded data removed]",
      "text/plain": [
       "<Figure size 1080x576 with 2 Axes>"
      ]
     },
     "metadata": {
      "needs_background": "light"
     },
     "output_type": "display_data"
    }
   ],
   "source": [
    "plt.suptitle(\"Valid\")\n",
    "\n",
    "plt.figure(figsize=(15,8))\n",
    "plt.subplot(1, 2, 1)\n",
    "plt.title(\"Valid Loss\")\n",
    "plt.plot(losses_valid)\n",
    "\n",
    "plt.subplot(1, 2, 2)\n",
    "plt.title(\"Valid Accuracy\")\n",
    "plt.plot(accs_valid)"
   ]
  },
  {
   "cell_type": "code",
   "execution_count": 20,
   "id": "young-rouge",
   "metadata": {
    "execution": {
     "iopub.execute_input": "2021-06-10T13:53:47.663694Z",
     "iopub.status.busy": "2021-06-10T13:53:47.658528Z",
     "iopub.status.idle": "2021-06-10T13:53:47.727478Z",
     "shell.execute_reply": "2021-06-10T13:53:47.727030Z",
     "shell.execute_reply.started": "2021-06-09T18:02:08.636652Z"
    },
    "papermill": {
     "duration": 0.136151,
     "end_time": "2021-06-10T13:53:47.727607",
     "exception": false,
     "start_time": "2021-06-10T13:53:47.591456",
     "status": "completed"
    },
    "tags": []
   },
   "outputs": [],
   "source": [
    "torch.save(googlenet_model,'./myGoogleNetPretrainedModel3.h5')"
   ]
  }
 ],
 "metadata": {
  "kernelspec": {
   "display_name": "Python 3",
   "language": "python",
   "name": "python3"
  },
  "language_info": {
   "codemirror_mode": {
    "name": "ipython",
    "version": 3
   },
   "file_extension": ".py",
   "mimetype": "text/x-python",
   "name": "python",
   "nbconvert_exporter": "python",
   "pygments_lexer": "ipython3",
   "version": "3.7.10"
  },
  "papermill": {
   "default_parameters": {},
   "duration": 21202.951425,
   "end_time": "2021-06-10T13:53:50.544570",
   "environment_variables": {},
   "exception": null,
   "input_path": "__notebook__.ipynb",
   "output_path": "__notebook__.ipynb",
   "parameters": {},
   "start_time": "2021-06-10T08:00:27.593145",
   "version": "2.3.3"
  },
  "widgets": {
   "application/vnd.jupyter.widget-state+json": {
    "state": {
     "24640c084e634999beb8641dcca1d2e2": {
      "model_module": "@jupyter-widgets/controls",
      "model_module_version": "1.5.0",
      "model_name": "HBoxModel",
      "state": {
       "_dom_classes": [],
       "_model_module": "@jupyter-widgets/controls",
       "_model_module_version": "1.5.0",
       "_model_name": "HBoxModel",
       "_view_count": null,
       "_view_module": "@jupyter-widgets/controls",
       "_view_module_version": "1.5.0",
       "_view_name": "HBoxView",
       "box_style": "",
       "children": [
        "IPY_MODEL_a4d8f9c227a54e5d8a71eef386ed411e",
        "IPY_MODEL_7b0c3327f82f44d1ad5f28cf416ea867",
        "IPY_MODEL_3767f1b23a414a1fbc9ebc184ee770a4"
       ],
       "layout": "IPY_MODEL_c904ab116d0a4e1395a78236c2dc597b"
      }
     },
     "3767f1b23a414a1fbc9ebc184ee770a4": {
      "model_module": "@jupyter-widgets/controls",
      "model_module_version": "1.5.0",
      "model_name": "HTMLModel",
      "state": {
       "_dom_classes": [],
       "_model_module": "@jupyter-widgets/controls",
       "_model_module_version": "1.5.0",
       "_model_name": "HTMLModel",
       "_view_count": null,
       "_view_module": "@jupyter-widgets/controls",
       "_view_module_version": "1.5.0",
       "_view_name": "HTMLView",
       "description": "",
       "description_tooltip": null,
       "layout": "IPY_MODEL_7b680a5ccd464959a7e4d795073f8ec6",
       "placeholder": "​",
       "style": "IPY_MODEL_8c587c51be11460290f0126eeaa21c05",
       "value": " 49.7M/49.7M [00:02&lt;00:00, 33.8MB/s]"
      }
     },
     "7b0c3327f82f44d1ad5f28cf416ea867": {
      "model_module": "@jupyter-widgets/controls",
      "model_module_version": "1.5.0",
      "model_name": "FloatProgressModel",
      "state": {
       "_dom_classes": [],
       "_model_module": "@jupyter-widgets/controls",
       "_model_module_version": "1.5.0",
       "_model_name": "FloatProgressModel",
       "_view_count": null,
       "_view_module": "@jupyter-widgets/controls",
       "_view_module_version": "1.5.0",
       "_view_name": "ProgressView",
       "bar_style": "success",
       "description": "",
       "description_tooltip": null,
       "layout": "IPY_MODEL_d770c79354934e149519a5c8e811d3bd",
       "max": 52147035.0,
       "min": 0.0,
       "orientation": "horizontal",
       "style": "IPY_MODEL_aaca7d9f0ffa4e9e9fa5e0d29601e42c",
       "value": 52147035.0
      }
     },
     "7b680a5ccd464959a7e4d795073f8ec6": {
      "model_module": "@jupyter-widgets/base",
      "model_module_version": "1.2.0",
      "model_name": "LayoutModel",
      "state": {
       "_model_module": "@jupyter-widgets/base",
       "_model_module_version": "1.2.0",
       "_model_name": "LayoutModel",
       "_view_count": null,
       "_view_module": "@jupyter-widgets/base",
       "_view_module_version": "1.2.0",
       "_view_name": "LayoutView",
       "align_content": null,
       "align_items": null,
       "align_self": null,
       "border": null,
       "bottom": null,
       "display": null,
       "flex": null,
       "flex_flow": null,
       "grid_area": null,
       "grid_auto_columns": null,
       "grid_auto_flow": null,
       "grid_auto_rows": null,
       "grid_column": null,
       "grid_gap": null,
       "grid_row": null,
       "grid_template_areas": null,
       "grid_template_columns": null,
       "grid_template_rows": null,
       "height": null,
       "justify_content": null,
       "justify_items": null,
       "left": null,
       "margin": null,
       "max_height": null,
       "max_width": null,
       "min_height": null,
       "min_width": null,
       "object_fit": null,
       "object_position": null,
       "order": null,
       "overflow": null,
       "overflow_x": null,
       "overflow_y": null,
       "padding": null,
       "right": null,
       "top": null,
       "visibility": null,
       "width": null
      }
     },
     "8c587c51be11460290f0126eeaa21c05": {
      "model_module": "@jupyter-widgets/controls",
      "model_module_version": "1.5.0",
      "model_name": "DescriptionStyleModel",
      "state": {
       "_model_module": "@jupyter-widgets/controls",
       "_model_module_version": "1.5.0",
       "_model_name": "DescriptionStyleModel",
       "_view_count": null,
       "_view_module": "@jupyter-widgets/base",
       "_view_module_version": "1.2.0",
       "_view_name": "StyleView",
       "description_width": ""
      }
     },
     "a35829eea11c45e0ad0cda03821de1ec": {
      "model_module": "@jupyter-widgets/base",
      "model_module_version": "1.2.0",
      "model_name": "LayoutModel",
      "state": {
       "_model_module": "@jupyter-widgets/base",
       "_model_module_version": "1.2.0",
       "_model_name": "LayoutModel",
       "_view_count": null,
       "_view_module": "@jupyter-widgets/base",
       "_view_module_version": "1.2.0",
       "_view_name": "LayoutView",
       "align_content": null,
       "align_items": null,
       "align_self": null,
       "border": null,
       "bottom": null,
       "display": null,
       "flex": null,
       "flex_flow": null,
       "grid_area": null,
       "grid_auto_columns": null,
       "grid_auto_flow": null,
       "grid_auto_rows": null,
       "grid_column": null,
       "grid_gap": null,
       "grid_row": null,
       "grid_template_areas": null,
       "grid_template_columns": null,
       "grid_template_rows": null,
       "height": null,
       "justify_content": null,
       "justify_items": null,
       "left": null,
       "margin": null,
       "max_height": null,
       "max_width": null,
       "min_height": null,
       "min_width": null,
       "object_fit": null,
       "object_position": null,
       "order": null,
       "overflow": null,
       "overflow_x": null,
       "overflow_y": null,
       "padding": null,
       "right": null,
       "top": null,
       "visibility": null,
       "width": null
      }
     },
     "a4d8f9c227a54e5d8a71eef386ed411e": {
      "model_module": "@jupyter-widgets/controls",
      "model_module_version": "1.5.0",
      "model_name": "HTMLModel",
      "state": {
       "_dom_classes": [],
       "_model_module": "@jupyter-widgets/controls",
       "_model_module_version": "1.5.0",
       "_model_name": "HTMLModel",
       "_view_count": null,
       "_view_module": "@jupyter-widgets/controls",
       "_view_module_version": "1.5.0",
       "_view_name": "HTMLView",
       "description": "",
       "description_tooltip": null,
       "layout": "IPY_MODEL_a35829eea11c45e0ad0cda03821de1ec",
       "placeholder": "​",
       "style": "IPY_MODEL_c6e8f8cc494c4f61afb1c67c20e1716f",
       "value": "100%"
      }
     },
     "aaca7d9f0ffa4e9e9fa5e0d29601e42c": {
      "model_module": "@jupyter-widgets/controls",
      "model_module_version": "1.5.0",
      "model_name": "ProgressStyleModel",
      "state": {
       "_model_module": "@jupyter-widgets/controls",
       "_model_module_version": "1.5.0",
       "_model_name": "ProgressStyleModel",
       "_view_count": null,
       "_view_module": "@jupyter-widgets/base",
       "_view_module_version": "1.2.0",
       "_view_name": "StyleView",
       "bar_color": null,
       "description_width": ""
      }
     },
     "c6e8f8cc494c4f61afb1c67c20e1716f": {
      "model_module": "@jupyter-widgets/controls",
      "model_module_version": "1.5.0",
      "model_name": "DescriptionStyleModel",
      "state": {
       "_model_module": "@jupyter-widgets/controls",
       "_model_module_version": "1.5.0",
       "_model_name": "DescriptionStyleModel",
       "_view_count": null,
       "_view_module": "@jupyter-widgets/base",
       "_view_module_version": "1.2.0",
       "_view_name": "StyleView",
       "description_width": ""
      }
     },
     "c904ab116d0a4e1395a78236c2dc597b": {
      "model_module": "@jupyter-widgets/base",
      "model_module_version": "1.2.0",
      "model_name": "LayoutModel",
      "state": {
       "_model_module": "@jupyter-widgets/base",
       "_model_module_version": "1.2.0",
       "_model_name": "LayoutModel",
       "_view_count": null,
       "_view_module": "@jupyter-widgets/base",
       "_view_module_version": "1.2.0",
       "_view_name": "LayoutView",
       "align_content": null,
       "align_items": null,
       "align_self": null,
       "border": null,
       "bottom": null,
       "display": null,
       "flex": null,
       "flex_flow": null,
       "grid_area": null,
       "grid_auto_columns": null,
       "grid_auto_flow": null,
       "grid_auto_rows": null,
       "grid_column": null,
       "grid_gap": null,
       "grid_row": null,
       "grid_template_areas": null,
       "grid_template_columns": null,
       "grid_template_rows": null,
       "height": null,
       "justify_content": null,
       "justify_items": null,
       "left": null,
       "margin": null,
       "max_height": null,
       "max_width": null,
       "min_height": null,
       "min_width": null,
       "object_fit": null,
       "object_position": null,
       "order": null,
       "overflow": null,
       "overflow_x": null,
       "overflow_y": null,
       "padding": null,
       "right": null,
       "top": null,
       "visibility": null,
       "width": null
      }
     },
     "d770c79354934e149519a5c8e811d3bd": {
      "model_module": "@jupyter-widgets/base",
      "model_module_version": "1.2.0",
      "model_name": "LayoutModel",
      "state": {
       "_model_module": "@jupyter-widgets/base",
       "_model_module_version": "1.2.0",
       "_model_name": "LayoutModel",
       "_view_count": null,
       "_view_module": "@jupyter-widgets/base",
       "_view_module_version": "1.2.0",
       "_view_name": "LayoutView",
       "align_content": null,
       "align_items": null,
       "align_self": null,
       "border": null,
       "bottom": null,
       "display": null,
       "flex": null,
       "flex_flow": null,
       "grid_area": null,
       "grid_auto_columns": null,
       "grid_auto_flow": null,
       "grid_auto_rows": null,
       "grid_column": null,
       "grid_gap": null,
       "grid_row": null,
       "grid_template_areas": null,
       "grid_template_columns": null,
       "grid_template_rows": null,
       "height": null,
       "justify_content": null,
       "justify_items": null,
       "left": null,
       "margin": null,
       "max_height": null,
       "max_width": null,
       "min_height": null,
       "min_width": null,
       "object_fit": null,
       "object_position": null,
       "order": null,
       "overflow": null,
       "overflow_x": null,
       "overflow_y": null,
       "padding": null,
       "right": null,
       "top": null,
       "visibility": null,
       "width": null
      }
     }
    },
    "version_major": 2,
    "version_minor": 0
   }
  }
 },
 "nbformat": 4,
 "nbformat_minor": 5
}

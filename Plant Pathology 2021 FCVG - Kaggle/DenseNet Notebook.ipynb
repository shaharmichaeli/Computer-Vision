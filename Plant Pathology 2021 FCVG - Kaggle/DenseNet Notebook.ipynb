{
 "cells": [
  {
   "cell_type": "code",
   "execution_count": 1,
   "id": "geological-upgrade",
   "metadata": {
    "_cell_guid": "b1076dfc-b9ad-4769-8c92-a6c4dae69d19",
    "_uuid": "8f2839f25d086af736a60e9eeb907d3b93b6e0e5",
    "execution": {
     "iopub.execute_input": "2021-06-15T10:50:37.250141Z",
     "iopub.status.busy": "2021-06-15T10:50:37.248644Z",
     "iopub.status.idle": "2021-06-15T10:50:45.414285Z",
     "shell.execute_reply": "2021-06-15T10:50:45.413297Z",
     "shell.execute_reply.started": "2021-06-14T17:00:23.72704Z"
    },
    "papermill": {
     "duration": 8.185143,
     "end_time": "2021-06-15T10:50:45.414446",
     "exception": false,
     "start_time": "2021-06-15T10:50:37.229303",
     "status": "completed"
    },
    "tags": []
   },
   "outputs": [],
   "source": [
    "# imports\n",
    "import torch\n",
    "import os\n",
    "from albumentations.pytorch import ToTensorV2\n",
    "import numpy as np\n",
    "import torchvision.models as models\n",
    "import tensorflow as tf\n",
    "from sklearn.preprocessing import MultiLabelBinarizer\n",
    "import matplotlib.pyplot as plt\n",
    "import torch.nn as nn\n",
    "import torchmetrics \n",
    "import torch.nn.functional as F\n",
    "import torch.optim as optim\n",
    "import torchvision\n",
    "import seaborn as sns\n",
    "from sklearn.model_selection import train_test_split\n",
    "from torch.utils.data import Dataset, DataLoader\n",
    "import albumentations as A\n",
    "import pandas as pd\n",
    "import cv2\n",
    "from tqdm import tqdm\n",
    "%matplotlib inline"
   ]
  },
  {
   "cell_type": "code",
   "execution_count": 2,
   "id": "simplified-success",
   "metadata": {
    "execution": {
     "iopub.execute_input": "2021-06-15T10:50:45.447775Z",
     "iopub.status.busy": "2021-06-15T10:50:45.446999Z",
     "iopub.status.idle": "2021-06-15T10:50:45.449603Z",
     "shell.execute_reply": "2021-06-15T10:50:45.449166Z",
     "shell.execute_reply.started": "2021-06-14T17:00:33.551441Z"
    },
    "papermill": {
     "duration": 0.02045,
     "end_time": "2021-06-15T10:50:45.449709",
     "exception": false,
     "start_time": "2021-06-15T10:50:45.429259",
     "status": "completed"
    },
    "tags": []
   },
   "outputs": [],
   "source": [
    "# Glboal Variabels.\n",
    "PATH = \"../input/plant-pathology-2021-fgvc8/\"\n",
    "TRAIN_DIR_RESIZED = '../input/resized-plant2021/img_sz_256/'\n",
    "TRAIN_DIR = PATH + 'train_images/'\n",
    "TEST_DIR = PATH + 'test_images/'"
   ]
  },
  {
   "cell_type": "code",
   "execution_count": 3,
   "id": "tutorial-panic",
   "metadata": {
    "execution": {
     "iopub.execute_input": "2021-06-15T10:50:45.484470Z",
     "iopub.status.busy": "2021-06-15T10:50:45.483946Z",
     "iopub.status.idle": "2021-06-15T10:50:45.536809Z",
     "shell.execute_reply": "2021-06-15T10:50:45.536362Z",
     "shell.execute_reply.started": "2021-06-14T17:00:33.562376Z"
    },
    "papermill": {
     "duration": 0.072924,
     "end_time": "2021-06-15T10:50:45.536924",
     "exception": false,
     "start_time": "2021-06-15T10:50:45.464000",
     "status": "completed"
    },
    "tags": []
   },
   "outputs": [
    {
     "data": {
      "text/html": [
       "<div>\n",
       "<style scoped>\n",
       "    .dataframe tbody tr th:only-of-type {\n",
       "        vertical-align: middle;\n",
       "    }\n",
       "\n",
       "    .dataframe tbody tr th {\n",
       "        vertical-align: top;\n",
       "    }\n",
       "\n",
       "    .dataframe thead th {\n",
       "        text-align: right;\n",
       "    }\n",
       "</style>\n",
       "<table border=\"1\" class=\"dataframe\">\n",
       "  <thead>\n",
       "    <tr style=\"text-align: right;\">\n",
       "      <th></th>\n",
       "      <th>image</th>\n",
       "      <th>labels</th>\n",
       "    </tr>\n",
       "  </thead>\n",
       "  <tbody>\n",
       "    <tr>\n",
       "      <th>0</th>\n",
       "      <td>800113bb65efe69e.jpg</td>\n",
       "      <td>healthy</td>\n",
       "    </tr>\n",
       "    <tr>\n",
       "      <th>1</th>\n",
       "      <td>8002cb321f8bfcdf.jpg</td>\n",
       "      <td>scab frog_eye_leaf_spot complex</td>\n",
       "    </tr>\n",
       "    <tr>\n",
       "      <th>2</th>\n",
       "      <td>80070f7fb5e2ccaa.jpg</td>\n",
       "      <td>scab</td>\n",
       "    </tr>\n",
       "    <tr>\n",
       "      <th>3</th>\n",
       "      <td>80077517781fb94f.jpg</td>\n",
       "      <td>scab</td>\n",
       "    </tr>\n",
       "    <tr>\n",
       "      <th>4</th>\n",
       "      <td>800cbf0ff87721f8.jpg</td>\n",
       "      <td>complex</td>\n",
       "    </tr>\n",
       "    <tr>\n",
       "      <th>...</th>\n",
       "      <td>...</td>\n",
       "      <td>...</td>\n",
       "    </tr>\n",
       "    <tr>\n",
       "      <th>18627</th>\n",
       "      <td>fffb900a92289a33.jpg</td>\n",
       "      <td>healthy</td>\n",
       "    </tr>\n",
       "    <tr>\n",
       "      <th>18628</th>\n",
       "      <td>fffc488fa4c0e80c.jpg</td>\n",
       "      <td>scab</td>\n",
       "    </tr>\n",
       "    <tr>\n",
       "      <th>18629</th>\n",
       "      <td>fffc94e092a59086.jpg</td>\n",
       "      <td>rust</td>\n",
       "    </tr>\n",
       "    <tr>\n",
       "      <th>18630</th>\n",
       "      <td>fffe105cf6808292.jpg</td>\n",
       "      <td>scab frog_eye_leaf_spot</td>\n",
       "    </tr>\n",
       "    <tr>\n",
       "      <th>18631</th>\n",
       "      <td>fffe472a0001bd25.jpg</td>\n",
       "      <td>healthy</td>\n",
       "    </tr>\n",
       "  </tbody>\n",
       "</table>\n",
       "<p>18632 rows × 2 columns</p>\n",
       "</div>"
      ],
      "text/plain": [
       "                      image                           labels\n",
       "0      800113bb65efe69e.jpg                          healthy\n",
       "1      8002cb321f8bfcdf.jpg  scab frog_eye_leaf_spot complex\n",
       "2      80070f7fb5e2ccaa.jpg                             scab\n",
       "3      80077517781fb94f.jpg                             scab\n",
       "4      800cbf0ff87721f8.jpg                          complex\n",
       "...                     ...                              ...\n",
       "18627  fffb900a92289a33.jpg                          healthy\n",
       "18628  fffc488fa4c0e80c.jpg                             scab\n",
       "18629  fffc94e092a59086.jpg                             rust\n",
       "18630  fffe105cf6808292.jpg          scab frog_eye_leaf_spot\n",
       "18631  fffe472a0001bd25.jpg                          healthy\n",
       "\n",
       "[18632 rows x 2 columns]"
      ]
     },
     "execution_count": 3,
     "metadata": {},
     "output_type": "execute_result"
    }
   ],
   "source": [
    "train_dataframe_csv = pd.read_csv(PATH + \"train.csv\")\n",
    "train_dataframe_csv"
   ]
  },
  {
   "cell_type": "code",
   "execution_count": 4,
   "id": "correct-dancing",
   "metadata": {
    "execution": {
     "iopub.execute_input": "2021-06-15T10:50:45.601881Z",
     "iopub.status.busy": "2021-06-15T10:50:45.596745Z",
     "iopub.status.idle": "2021-06-15T10:50:45.611360Z",
     "shell.execute_reply": "2021-06-15T10:50:45.611824Z",
     "shell.execute_reply.started": "2021-06-14T17:00:33.623541Z"
    },
    "papermill": {
     "duration": 0.059617,
     "end_time": "2021-06-15T10:50:45.611946",
     "exception": false,
     "start_time": "2021-06-15T10:50:45.552329",
     "status": "completed"
    },
    "tags": []
   },
   "outputs": [],
   "source": [
    "mlb = MultiLabelBinarizer()\n",
    "train_dataframe_csv['labels'] = [x.split(' ') for x in train_dataframe_csv['labels']]\n",
    "OneHotEncoder_Labels = mlb.fit_transform(train_dataframe_csv[\"labels\"])"
   ]
  },
  {
   "cell_type": "code",
   "execution_count": 5,
   "id": "continental-mississippi",
   "metadata": {
    "execution": {
     "iopub.execute_input": "2021-06-15T10:50:45.645215Z",
     "iopub.status.busy": "2021-06-15T10:50:45.644440Z",
     "iopub.status.idle": "2021-06-15T10:50:46.014876Z",
     "shell.execute_reply": "2021-06-15T10:50:46.014468Z",
     "shell.execute_reply.started": "2021-06-14T17:00:33.680511Z"
    },
    "papermill": {
     "duration": 0.38867,
     "end_time": "2021-06-15T10:50:46.014993",
     "exception": false,
     "start_time": "2021-06-15T10:50:45.626323",
     "status": "completed"
    },
    "tags": []
   },
   "outputs": [
    {
     "data": {
      "text/html": [
       "<div>\n",
       "<style scoped>\n",
       "    .dataframe tbody tr th:only-of-type {\n",
       "        vertical-align: middle;\n",
       "    }\n",
       "\n",
       "    .dataframe tbody tr th {\n",
       "        vertical-align: top;\n",
       "    }\n",
       "\n",
       "    .dataframe thead th {\n",
       "        text-align: right;\n",
       "    }\n",
       "</style>\n",
       "<table border=\"1\" class=\"dataframe\">\n",
       "  <thead>\n",
       "    <tr style=\"text-align: right;\">\n",
       "      <th></th>\n",
       "      <th>image</th>\n",
       "      <th>labels</th>\n",
       "    </tr>\n",
       "  </thead>\n",
       "  <tbody>\n",
       "    <tr>\n",
       "      <th>0</th>\n",
       "      <td>800113bb65efe69e.jpg</td>\n",
       "      <td>[0, 0, 0, 0, 0]</td>\n",
       "    </tr>\n",
       "    <tr>\n",
       "      <th>1</th>\n",
       "      <td>8002cb321f8bfcdf.jpg</td>\n",
       "      <td>[1, 1, 0, 0, 1]</td>\n",
       "    </tr>\n",
       "    <tr>\n",
       "      <th>2</th>\n",
       "      <td>80070f7fb5e2ccaa.jpg</td>\n",
       "      <td>[0, 0, 0, 0, 1]</td>\n",
       "    </tr>\n",
       "    <tr>\n",
       "      <th>3</th>\n",
       "      <td>80077517781fb94f.jpg</td>\n",
       "      <td>[0, 0, 0, 0, 1]</td>\n",
       "    </tr>\n",
       "    <tr>\n",
       "      <th>4</th>\n",
       "      <td>800cbf0ff87721f8.jpg</td>\n",
       "      <td>[1, 0, 0, 0, 0]</td>\n",
       "    </tr>\n",
       "    <tr>\n",
       "      <th>...</th>\n",
       "      <td>...</td>\n",
       "      <td>...</td>\n",
       "    </tr>\n",
       "    <tr>\n",
       "      <th>18627</th>\n",
       "      <td>fffb900a92289a33.jpg</td>\n",
       "      <td>[0, 0, 0, 0, 0]</td>\n",
       "    </tr>\n",
       "    <tr>\n",
       "      <th>18628</th>\n",
       "      <td>fffc488fa4c0e80c.jpg</td>\n",
       "      <td>[0, 0, 0, 0, 1]</td>\n",
       "    </tr>\n",
       "    <tr>\n",
       "      <th>18629</th>\n",
       "      <td>fffc94e092a59086.jpg</td>\n",
       "      <td>[0, 0, 0, 1, 0]</td>\n",
       "    </tr>\n",
       "    <tr>\n",
       "      <th>18630</th>\n",
       "      <td>fffe105cf6808292.jpg</td>\n",
       "      <td>[0, 1, 0, 0, 1]</td>\n",
       "    </tr>\n",
       "    <tr>\n",
       "      <th>18631</th>\n",
       "      <td>fffe472a0001bd25.jpg</td>\n",
       "      <td>[0, 0, 0, 0, 0]</td>\n",
       "    </tr>\n",
       "  </tbody>\n",
       "</table>\n",
       "<p>18632 rows × 2 columns</p>\n",
       "</div>"
      ],
      "text/plain": [
       "                      image           labels\n",
       "0      800113bb65efe69e.jpg  [0, 0, 0, 0, 0]\n",
       "1      8002cb321f8bfcdf.jpg  [1, 1, 0, 0, 1]\n",
       "2      80070f7fb5e2ccaa.jpg  [0, 0, 0, 0, 1]\n",
       "3      80077517781fb94f.jpg  [0, 0, 0, 0, 1]\n",
       "4      800cbf0ff87721f8.jpg  [1, 0, 0, 0, 0]\n",
       "...                     ...              ...\n",
       "18627  fffb900a92289a33.jpg  [0, 0, 0, 0, 0]\n",
       "18628  fffc488fa4c0e80c.jpg  [0, 0, 0, 0, 1]\n",
       "18629  fffc94e092a59086.jpg  [0, 0, 0, 1, 0]\n",
       "18630  fffe105cf6808292.jpg  [0, 1, 0, 0, 1]\n",
       "18631  fffe472a0001bd25.jpg  [0, 0, 0, 0, 0]\n",
       "\n",
       "[18632 rows x 2 columns]"
      ]
     },
     "execution_count": 5,
     "metadata": {},
     "output_type": "execute_result"
    }
   ],
   "source": [
    "for i in range(len(train_dataframe_csv)):\n",
    "    train_dataframe_csv.at[i,'labels'] = np.delete(OneHotEncoder_Labels[i],2)\n",
    "    \n",
    "train_dataframe_csv"
   ]
  },
  {
   "cell_type": "code",
   "execution_count": 6,
   "id": "better-going",
   "metadata": {
    "execution": {
     "iopub.execute_input": "2021-06-15T10:50:46.049707Z",
     "iopub.status.busy": "2021-06-15T10:50:46.048885Z",
     "iopub.status.idle": "2021-06-15T10:50:46.052065Z",
     "shell.execute_reply": "2021-06-15T10:50:46.052815Z",
     "shell.execute_reply.started": "2021-06-14T17:00:34.203692Z"
    },
    "papermill": {
     "duration": 0.023055,
     "end_time": "2021-06-15T10:50:46.052977",
     "exception": false,
     "start_time": "2021-06-15T10:50:46.029922",
     "status": "completed"
    },
    "tags": []
   },
   "outputs": [
    {
     "name": "stdout",
     "output_type": "stream",
     "text": [
      "['complex' 'frog_eye_leaf_spot' 'healthy' 'powdery_mildew' 'rust' 'scab']\n"
     ]
    }
   ],
   "source": [
    "# labels_dict = dict(zip(list(train_dataframe_csv['labels'].value_counts().keys()), range(12)))\n",
    "# print(labels_dict)\n",
    "print(mlb.classes_)"
   ]
  },
  {
   "cell_type": "code",
   "execution_count": 7,
   "id": "collected-blair",
   "metadata": {
    "execution": {
     "iopub.execute_input": "2021-06-15T10:50:46.088658Z",
     "iopub.status.busy": "2021-06-15T10:50:46.088142Z",
     "iopub.status.idle": "2021-06-15T10:50:46.440135Z",
     "shell.execute_reply": "2021-06-15T10:50:46.440769Z",
     "shell.execute_reply.started": "2021-06-14T17:00:34.215736Z"
    },
    "papermill": {
     "duration": 0.371264,
     "end_time": "2021-06-15T10:50:46.441034",
     "exception": false,
     "start_time": "2021-06-15T10:50:46.069770",
     "status": "completed"
    },
    "tags": []
   },
   "outputs": [
    {
     "data": {
      "text/html": [
       "<div>\n",
       "<style scoped>\n",
       "    .dataframe tbody tr th:only-of-type {\n",
       "        vertical-align: middle;\n",
       "    }\n",
       "\n",
       "    .dataframe tbody tr th {\n",
       "        vertical-align: top;\n",
       "    }\n",
       "\n",
       "    .dataframe thead th {\n",
       "        text-align: right;\n",
       "    }\n",
       "</style>\n",
       "<table border=\"1\" class=\"dataframe\">\n",
       "  <thead>\n",
       "    <tr style=\"text-align: right;\">\n",
       "      <th></th>\n",
       "      <th>image</th>\n",
       "      <th>labels</th>\n",
       "    </tr>\n",
       "  </thead>\n",
       "  <tbody>\n",
       "    <tr>\n",
       "      <th>0</th>\n",
       "      <td>../input/resized-plant2021/img_sz_256/800113bb...</td>\n",
       "      <td>[0, 0, 0, 0, 0]</td>\n",
       "    </tr>\n",
       "    <tr>\n",
       "      <th>1</th>\n",
       "      <td>../input/resized-plant2021/img_sz_256/8002cb32...</td>\n",
       "      <td>[1, 1, 0, 0, 1]</td>\n",
       "    </tr>\n",
       "    <tr>\n",
       "      <th>2</th>\n",
       "      <td>../input/resized-plant2021/img_sz_256/80070f7f...</td>\n",
       "      <td>[0, 0, 0, 0, 1]</td>\n",
       "    </tr>\n",
       "    <tr>\n",
       "      <th>3</th>\n",
       "      <td>../input/resized-plant2021/img_sz_256/80077517...</td>\n",
       "      <td>[0, 0, 0, 0, 1]</td>\n",
       "    </tr>\n",
       "    <tr>\n",
       "      <th>4</th>\n",
       "      <td>../input/resized-plant2021/img_sz_256/800cbf0f...</td>\n",
       "      <td>[1, 0, 0, 0, 0]</td>\n",
       "    </tr>\n",
       "    <tr>\n",
       "      <th>...</th>\n",
       "      <td>...</td>\n",
       "      <td>...</td>\n",
       "    </tr>\n",
       "    <tr>\n",
       "      <th>18627</th>\n",
       "      <td>../input/resized-plant2021/img_sz_256/fffb900a...</td>\n",
       "      <td>[0, 0, 0, 0, 0]</td>\n",
       "    </tr>\n",
       "    <tr>\n",
       "      <th>18628</th>\n",
       "      <td>../input/resized-plant2021/img_sz_256/fffc488f...</td>\n",
       "      <td>[0, 0, 0, 0, 1]</td>\n",
       "    </tr>\n",
       "    <tr>\n",
       "      <th>18629</th>\n",
       "      <td>../input/resized-plant2021/img_sz_256/fffc94e0...</td>\n",
       "      <td>[0, 0, 0, 1, 0]</td>\n",
       "    </tr>\n",
       "    <tr>\n",
       "      <th>18630</th>\n",
       "      <td>../input/resized-plant2021/img_sz_256/fffe105c...</td>\n",
       "      <td>[0, 1, 0, 0, 1]</td>\n",
       "    </tr>\n",
       "    <tr>\n",
       "      <th>18631</th>\n",
       "      <td>../input/resized-plant2021/img_sz_256/fffe472a...</td>\n",
       "      <td>[0, 0, 0, 0, 0]</td>\n",
       "    </tr>\n",
       "  </tbody>\n",
       "</table>\n",
       "<p>18632 rows × 2 columns</p>\n",
       "</div>"
      ],
      "text/plain": [
       "                                                   image           labels\n",
       "0      ../input/resized-plant2021/img_sz_256/800113bb...  [0, 0, 0, 0, 0]\n",
       "1      ../input/resized-plant2021/img_sz_256/8002cb32...  [1, 1, 0, 0, 1]\n",
       "2      ../input/resized-plant2021/img_sz_256/80070f7f...  [0, 0, 0, 0, 1]\n",
       "3      ../input/resized-plant2021/img_sz_256/80077517...  [0, 0, 0, 0, 1]\n",
       "4      ../input/resized-plant2021/img_sz_256/800cbf0f...  [1, 0, 0, 0, 0]\n",
       "...                                                  ...              ...\n",
       "18627  ../input/resized-plant2021/img_sz_256/fffb900a...  [0, 0, 0, 0, 0]\n",
       "18628  ../input/resized-plant2021/img_sz_256/fffc488f...  [0, 0, 0, 0, 1]\n",
       "18629  ../input/resized-plant2021/img_sz_256/fffc94e0...  [0, 0, 0, 1, 0]\n",
       "18630  ../input/resized-plant2021/img_sz_256/fffe105c...  [0, 1, 0, 0, 1]\n",
       "18631  ../input/resized-plant2021/img_sz_256/fffe472a...  [0, 0, 0, 0, 0]\n",
       "\n",
       "[18632 rows x 2 columns]"
      ]
     },
     "execution_count": 7,
     "metadata": {},
     "output_type": "execute_result"
    }
   ],
   "source": [
    "train_dataframe_csv['image'] = train_dataframe_csv.apply(lambda row: TRAIN_DIR_RESIZED + row.image , axis=1)\n",
    "# train_dataframe_csv[\"labels\"] = train_dataframe_csv[\"labels\"].apply(lambda x:x.split(\" \"))\n",
    "# train_dataframe_csv[\"labels\"] = train_dataframe_csv[\"labels\"].apply(lambda x:labels_dict[x])\n",
    "train_dataframe_csv"
   ]
  },
  {
   "cell_type": "code",
   "execution_count": 8,
   "id": "fifth-checklist",
   "metadata": {
    "execution": {
     "iopub.execute_input": "2021-06-15T10:50:46.497927Z",
     "iopub.status.busy": "2021-06-15T10:50:46.497127Z",
     "iopub.status.idle": "2021-06-15T10:50:46.516733Z",
     "shell.execute_reply": "2021-06-15T10:50:46.517749Z",
     "shell.execute_reply.started": "2021-06-14T17:00:34.586479Z"
    },
    "papermill": {
     "duration": 0.051017,
     "end_time": "2021-06-15T10:50:46.517938",
     "exception": false,
     "start_time": "2021-06-15T10:50:46.466921",
     "status": "completed"
    },
    "tags": []
   },
   "outputs": [
    {
     "data": {
      "text/html": [
       "<div>\n",
       "<style scoped>\n",
       "    .dataframe tbody tr th:only-of-type {\n",
       "        vertical-align: middle;\n",
       "    }\n",
       "\n",
       "    .dataframe tbody tr th {\n",
       "        vertical-align: top;\n",
       "    }\n",
       "\n",
       "    .dataframe thead th {\n",
       "        text-align: right;\n",
       "    }\n",
       "</style>\n",
       "<table border=\"1\" class=\"dataframe\">\n",
       "  <thead>\n",
       "    <tr style=\"text-align: right;\">\n",
       "      <th></th>\n",
       "      <th>image</th>\n",
       "      <th>labels</th>\n",
       "    </tr>\n",
       "  </thead>\n",
       "  <tbody>\n",
       "    <tr>\n",
       "      <th>0</th>\n",
       "      <td>../input/plant-pathology-2021-fgvc8/test_image...</td>\n",
       "      <td>healthy</td>\n",
       "    </tr>\n",
       "    <tr>\n",
       "      <th>1</th>\n",
       "      <td>../input/plant-pathology-2021-fgvc8/test_image...</td>\n",
       "      <td>healthy</td>\n",
       "    </tr>\n",
       "    <tr>\n",
       "      <th>2</th>\n",
       "      <td>../input/plant-pathology-2021-fgvc8/test_image...</td>\n",
       "      <td>healthy</td>\n",
       "    </tr>\n",
       "  </tbody>\n",
       "</table>\n",
       "</div>"
      ],
      "text/plain": [
       "                                               image   labels\n",
       "0  ../input/plant-pathology-2021-fgvc8/test_image...  healthy\n",
       "1  ../input/plant-pathology-2021-fgvc8/test_image...  healthy\n",
       "2  ../input/plant-pathology-2021-fgvc8/test_image...  healthy"
      ]
     },
     "execution_count": 8,
     "metadata": {},
     "output_type": "execute_result"
    }
   ],
   "source": [
    "test_dataframe_csv = pd.read_csv(PATH + \"sample_submission.csv\")\n",
    "test_dataframe_csv['image'] = test_dataframe_csv.apply(lambda row: TEST_DIR + row.image , axis=1)\n",
    "\n",
    "test_dataframe_csv"
   ]
  },
  {
   "cell_type": "code",
   "execution_count": 9,
   "id": "excellent-plenty",
   "metadata": {
    "execution": {
     "iopub.execute_input": "2021-06-15T10:50:46.594951Z",
     "iopub.status.busy": "2021-06-15T10:50:46.594159Z",
     "iopub.status.idle": "2021-06-15T10:50:46.600051Z",
     "shell.execute_reply": "2021-06-15T10:50:46.601259Z",
     "shell.execute_reply.started": "2021-06-14T17:00:34.61031Z"
    },
    "papermill": {
     "duration": 0.048895,
     "end_time": "2021-06-15T10:50:46.601482",
     "exception": false,
     "start_time": "2021-06-15T10:50:46.552587",
     "status": "completed"
    },
    "tags": []
   },
   "outputs": [],
   "source": [
    "class FocalLoss(nn.Module):\n",
    "    def __init__(self, alpha=0.2, gamma=2, logist=False, reduce='mean'):\n",
    "        super(FocalLoss, self).__init__()\n",
    "        self.alpha = alpha # the scalar factor between 0 and 1 \n",
    "        self.gamma = gamma # focusing parameter(always positive) that reduces the relative loss for well-classified examples and puts more focus on hard misclassified examples\n",
    "        self.cross_entropy_loss = nn.CrossEntropyLoss()\n",
    "        #self.logist = logist # log probabilities \n",
    "        self.reduce = reduce # Specifies the reduction to apply to the output - none/mean/sum. ‘none’: no reduction will be applied, ‘mean’: the sum of the output will be divided by the number of elements in the output, ‘sum’: the output will be summed.\n",
    "\n",
    "    def forward(self, inputs, targets):\n",
    "        BCE_loss = self.cross_entropy_loss(inputs, targets)\n",
    "        pt = torch.exp(-BCE_loss)\n",
    "        F_loss = self.alpha * (1-pt)**self.gamma * BCE_loss\n",
    "\n",
    "        if self.reduce:\n",
    "            return torch.mean(F_loss)\n",
    "        else:\n",
    "            return F_loss\n",
    "        \n",
    "class AverageMeter(object):\n",
    "    def __init__(self):\n",
    "        self.reset()\n",
    "\n",
    "    def reset(self):\n",
    "        self.val = 0\n",
    "        self.avg = 0\n",
    "        self.sum = 0\n",
    "        self.count = 0\n",
    "\n",
    "    def update(self, val, n=1):\n",
    "        self.val = val\n",
    "        self.sum += val * n\n",
    "        self.count += n\n",
    "        self.avg = self.sum / self.count"
   ]
  },
  {
   "cell_type": "code",
   "execution_count": 10,
   "id": "reliable-wilderness",
   "metadata": {
    "execution": {
     "iopub.execute_input": "2021-06-15T10:50:46.674784Z",
     "iopub.status.busy": "2021-06-15T10:50:46.674027Z",
     "iopub.status.idle": "2021-06-15T10:50:46.681015Z",
     "shell.execute_reply": "2021-06-15T10:50:46.679994Z",
     "shell.execute_reply.started": "2021-06-14T17:00:34.624591Z"
    },
    "papermill": {
     "duration": 0.045602,
     "end_time": "2021-06-15T10:50:46.681167",
     "exception": false,
     "start_time": "2021-06-15T10:50:46.635565",
     "status": "completed"
    },
    "tags": []
   },
   "outputs": [],
   "source": [
    "class PlantDataset(Dataset):\n",
    "    def __init__(self, df, transform=None):\n",
    "        self.images = df['image'].values\n",
    "        self.labels = df['labels'].values\n",
    "        self.transform = transform\n",
    "\n",
    "    def __len__(self):\n",
    "        return len(self.labels)\n",
    "\n",
    "    def __getitem__(self, idx):\n",
    "        image_path = self.images[idx]\n",
    "        label = self.labels[idx]\n",
    "        image = cv2.imread(image_path,cv2.COLOR_BGR2RGB)\n",
    "        image = cv2.resize(image,(224,224))\n",
    "        if self.transform is not None:\n",
    "            augmented = self.transform(image=image)\n",
    "            image = augmented['image']\n",
    "        return image,label\n",
    "    \n",
    "def get_transform(phase: str):\n",
    "    if phase == 'train':\n",
    "        return A.Compose([\n",
    "            A.RandomResizedCrop(height=224, width=224),\n",
    "            A.HorizontalFlip(p=0.5),\n",
    "            A.ShiftScaleRotate(p=0.5),\n",
    "            A.RandomBrightnessContrast(p=0.5),\n",
    "            A.Normalize(),\n",
    "            ToTensorV2(),\n",
    "        ])\n",
    "    else:\n",
    "        return A.Compose([\n",
    "            A.Resize(height=224, width=224),\n",
    "            A.Normalize(),\n",
    "            ToTensorV2(),\n",
    "        ])"
   ]
  },
  {
   "cell_type": "code",
   "execution_count": 11,
   "id": "mexican-persian",
   "metadata": {
    "execution": {
     "iopub.execute_input": "2021-06-15T10:50:46.741176Z",
     "iopub.status.busy": "2021-06-15T10:50:46.740465Z",
     "iopub.status.idle": "2021-06-15T10:50:46.744481Z",
     "shell.execute_reply": "2021-06-15T10:50:46.745041Z",
     "shell.execute_reply.started": "2021-06-14T17:00:34.641474Z"
    },
    "papermill": {
     "duration": 0.038027,
     "end_time": "2021-06-15T10:50:46.745212",
     "exception": false,
     "start_time": "2021-06-15T10:50:46.707185",
     "status": "completed"
    },
    "tags": []
   },
   "outputs": [],
   "source": [
    "images_train, images_valid, labels_train, labels_valid = train_test_split(train_dataframe_csv['image'].values, train_dataframe_csv['labels'].values, test_size=0.2)"
   ]
  },
  {
   "cell_type": "code",
   "execution_count": 12,
   "id": "irish-textbook",
   "metadata": {
    "execution": {
     "iopub.execute_input": "2021-06-15T10:50:46.805086Z",
     "iopub.status.busy": "2021-06-15T10:50:46.804353Z",
     "iopub.status.idle": "2021-06-15T10:50:46.810274Z",
     "shell.execute_reply": "2021-06-15T10:50:46.811228Z",
     "shell.execute_reply.started": "2021-06-14T17:00:34.658195Z"
    },
    "papermill": {
     "duration": 0.040655,
     "end_time": "2021-06-15T10:50:46.811392",
     "exception": false,
     "start_time": "2021-06-15T10:50:46.770737",
     "status": "completed"
    },
    "tags": []
   },
   "outputs": [],
   "source": [
    "train_dataframe = pd.DataFrame(data = {'image': images_train,'labels':labels_train})\n",
    "valid_dataframe = pd.DataFrame(data = {'image': images_valid,'labels':labels_valid})"
   ]
  },
  {
   "cell_type": "code",
   "execution_count": 13,
   "id": "failing-honduras",
   "metadata": {
    "execution": {
     "iopub.execute_input": "2021-06-15T10:50:46.869688Z",
     "iopub.status.busy": "2021-06-15T10:50:46.868959Z",
     "iopub.status.idle": "2021-06-15T10:50:46.872125Z",
     "shell.execute_reply": "2021-06-15T10:50:46.872809Z",
     "shell.execute_reply.started": "2021-06-14T17:00:34.672682Z"
    },
    "papermill": {
     "duration": 0.03576,
     "end_time": "2021-06-15T10:50:46.873002",
     "exception": false,
     "start_time": "2021-06-15T10:50:46.837242",
     "status": "completed"
    },
    "tags": []
   },
   "outputs": [],
   "source": [
    "train_dataset = PlantDataset(train_dataframe, get_transform('train'))\n",
    "valid_dataset = PlantDataset(valid_dataframe, get_transform('valid'))\n",
    "\n",
    "BatchSize = 32\n",
    "train_loader = DataLoader(train_dataset, batch_size=BatchSize, shuffle=True, num_workers=1)\n",
    "valid_loader = DataLoader(train_dataset, batch_size=BatchSize, shuffle=True, num_workers=1)"
   ]
  },
  {
   "cell_type": "code",
   "execution_count": 14,
   "id": "amber-least",
   "metadata": {
    "execution": {
     "iopub.execute_input": "2021-06-15T10:50:46.935965Z",
     "iopub.status.busy": "2021-06-15T10:50:46.935245Z",
     "iopub.status.idle": "2021-06-15T10:50:46.939287Z",
     "shell.execute_reply": "2021-06-15T10:50:46.939852Z",
     "shell.execute_reply.started": "2021-06-14T17:00:34.685094Z"
    },
    "papermill": {
     "duration": 0.041156,
     "end_time": "2021-06-15T10:50:46.940019",
     "exception": false,
     "start_time": "2021-06-15T10:50:46.898863",
     "status": "completed"
    },
    "tags": []
   },
   "outputs": [],
   "source": [
    "def train(dataloader,model,optimizer,epoch, lossFunction):\n",
    "    F1metric = torchmetrics.F1(5, average='weighted')\n",
    "    sigmoid = nn.Sigmoid()\n",
    "    model.train()\n",
    "    \n",
    "    \n",
    "    acc = AverageMeter()\n",
    "    losses = AverageMeter()\n",
    "    accuracies = 0\n",
    "    loss_accumlated = 0\n",
    "    for x_batch, y_batch in dataloader:\n",
    "        optimizer.zero_grad()\n",
    "        x_batch = x_batch.float().cuda()\n",
    "        y_batch = y_batch.float().cuda()\n",
    "        output = model(x_batch)\n",
    "#         x_batch = x_batch.float()\n",
    "#         y_batch = y_batch.long()\n",
    "\n",
    "#         output = model(x_batch)\n",
    "#         output = F.softmax(output)\n",
    "        loss = lossFunction(output, y_batch)\n",
    "\n",
    "        loss.backward()\n",
    "        losses.update(loss.item(),x_batch.size(0))\n",
    "        loss_accumlated += loss.item()\n",
    "        optimizer.step()\n",
    "#         accuracy = torchmetrics.functional.accuracy(output,y_batch.long()) \n",
    "        accuracy = F1metric(sigmoid(output).to('cpu'),y_batch.to('cpu'))\n",
    "\n",
    "        accuracies += accuracy\n",
    "        acc.update(accuracy, x_batch.size(0))\n",
    "        del x_batch\n",
    "        del y_batch\n",
    "        torch.cuda.empty_cache()\n",
    "\n",
    "    return losses.avg,acc.avg*100"
   ]
  },
  {
   "cell_type": "code",
   "execution_count": 15,
   "id": "commercial-inventory",
   "metadata": {
    "execution": {
     "iopub.execute_input": "2021-06-15T10:50:47.001330Z",
     "iopub.status.busy": "2021-06-15T10:50:47.000614Z",
     "iopub.status.idle": "2021-06-15T10:50:47.004204Z",
     "shell.execute_reply": "2021-06-15T10:50:47.005361Z",
     "shell.execute_reply.started": "2021-06-14T17:00:34.699778Z"
    },
    "papermill": {
     "duration": 0.039576,
     "end_time": "2021-06-15T10:50:47.005539",
     "exception": false,
     "start_time": "2021-06-15T10:50:46.965963",
     "status": "completed"
    },
    "tags": []
   },
   "outputs": [],
   "source": [
    "def validation(dataloader,model,optimizer,epoch, lossFunction):\n",
    "    F1metric = torchmetrics.F1(5, average='weighted')\n",
    "    sigmoid = nn.Sigmoid()    \n",
    "    \n",
    "    model.eval()\n",
    "    acc = AverageMeter()\n",
    "    losses = AverageMeter()\n",
    "    loss_accumlated = 0\n",
    "    accuracies = 0\n",
    "\n",
    "    with torch.no_grad():\n",
    "        for x_batch, y_batch in dataloader:\n",
    "            x_batch = x_batch.float().cuda()\n",
    "            y_batch = y_batch.float().cuda()\n",
    "            output = model(x_batch)\n",
    "#             output = F.softmax(output)\n",
    "            loss = lossFunction(output, y_batch)\n",
    "\n",
    "            losses.update(loss.item(), x_batch.size(0))\n",
    "            loss_accumlated += loss.item()\n",
    "            accuracy = F1metric(sigmoid(output).to('cpu'),y_batch.to('cpu'))\n",
    "            accuracies += accuracy\n",
    "            acc.update(accuracy, x_batch.size(0))\n",
    "            del x_batch\n",
    "            del y_batch\n",
    "            torch.cuda.empty_cache()\n",
    "        \n",
    "    return losses.avg,acc.avg*100"
   ]
  },
  {
   "cell_type": "code",
   "execution_count": 16,
   "id": "automotive-centre",
   "metadata": {
    "execution": {
     "iopub.execute_input": "2021-06-15T10:50:47.063236Z",
     "iopub.status.busy": "2021-06-15T10:50:47.062299Z",
     "iopub.status.idle": "2021-06-15T10:50:55.082666Z",
     "shell.execute_reply": "2021-06-15T10:50:55.082155Z",
     "shell.execute_reply.started": "2021-06-14T17:00:34.715826Z"
    },
    "papermill": {
     "duration": 8.05154,
     "end_time": "2021-06-15T10:50:55.082807",
     "exception": false,
     "start_time": "2021-06-15T10:50:47.031267",
     "status": "completed"
    },
    "tags": []
   },
   "outputs": [
    {
     "name": "stderr",
     "output_type": "stream",
     "text": [
      "Downloading: \"https://download.pytorch.org/models/densenet161-8d451a50.pth\" to /root/.cache/torch/hub/checkpoints/densenet161-8d451a50.pth\n"
     ]
    },
    {
     "data": {
      "application/vnd.jupyter.widget-view+json": {
       "model_id": "24380f8388c54913ac080bd705e7fe6a",
       "version_major": 2,
       "version_minor": 0
      },
      "text/plain": [
       "  0%|          | 0.00/110M [00:00<?, ?B/s]"
      ]
     },
     "metadata": {},
     "output_type": "display_data"
    }
   ],
   "source": [
    "densenet = models.densenet161(pretrained = True)\n",
    "densenet.classifier = nn.Linear(2208, 5)\n",
    "densenet = densenet.cuda()\n",
    "# googlenet_model = models.googlenet(pretrained=True)\n",
    "# in_features = googlenet_model.fc.in_features\n",
    "# googlenet_model.fc = torch.nn.Linear(in_features, 5)\n",
    "# googlenet_model = googlenet_model.cuda()\n",
    "# googlenet_model = torch.load('../input/notebook72dc7b2258/myGoogleNetPretrainedModel3.h5')\n",
    "opt = optim.Adam(densenet.parameters())\n",
    "criterion = nn.BCEWithLogitsLoss()\n"
   ]
  },
  {
   "cell_type": "code",
   "execution_count": 17,
   "id": "analyzed-outline",
   "metadata": {
    "execution": {
     "iopub.execute_input": "2021-06-15T10:50:55.124667Z",
     "iopub.status.busy": "2021-06-15T10:50:55.123134Z",
     "iopub.status.idle": "2021-06-15T19:40:38.273232Z",
     "shell.execute_reply": "2021-06-15T19:40:38.271803Z"
    },
    "papermill": {
     "duration": 31783.172566,
     "end_time": "2021-06-15T19:40:38.273368",
     "exception": false,
     "start_time": "2021-06-15T10:50:55.100802",
     "status": "completed"
    },
    "tags": []
   },
   "outputs": [
    {
     "name": "stderr",
     "output_type": "stream",
     "text": [
      "Epoch: 100%|██████████| 69/69 [8:49:43<00:00, 460.62s/it]\n"
     ]
    }
   ],
   "source": [
    "losses_train = []\n",
    "losses_valid = []\n",
    "accs_train = []\n",
    "accs_valid = []\n",
    "EPOCHS = 69\n",
    "\n",
    "for e in tqdm(range(EPOCHS),desc=\"Epoch\", position=0):\n",
    "    loss_train,acc_train = train(train_loader,densenet,opt,e,criterion)\n",
    "    losses_train.append(loss_train)\n",
    "    accs_train.append(acc_train)\n",
    "\n",
    "    loss_valid,acc_valid = validation(valid_loader,densenet,opt,e,criterion)\n",
    "    losses_valid.append(loss_valid)\n",
    "    accs_valid.append(acc_valid)"
   ]
  },
  {
   "cell_type": "code",
   "execution_count": 18,
   "id": "demanding-bottle",
   "metadata": {
    "execution": {
     "iopub.execute_input": "2021-06-15T19:40:38.364585Z",
     "iopub.status.busy": "2021-06-15T19:40:38.363768Z",
     "iopub.status.idle": "2021-06-15T19:40:38.842913Z",
     "shell.execute_reply": "2021-06-15T19:40:38.843545Z"
    },
    "papermill": {
     "duration": 0.536046,
     "end_time": "2021-06-15T19:40:38.843696",
     "exception": false,
     "start_time": "2021-06-15T19:40:38.307650",
     "status": "completed"
    },
    "tags": []
   },
   "outputs": [
    {
     "data": {
      "text/plain": [
       "[<matplotlib.lines.Line2D at 0x7fc5cf03bf50>]"
      ]
     },
     "execution_count": 18,
     "metadata": {},
     "output_type": "execute_result"
    },
    {
     "data": {
      "text/plain": [
       "<Figure size 432x288 with 0 Axes>"
      ]
     },
     "metadata": {},
     "output_type": "display_data"
    },
    {
     "data": {
      "image/png": "[encoded data removed]",
      "text/plain": [
       "<Figure size 1080x576 with 2 Axes>"
      ]
     },
     "metadata": {
      "needs_background": "light"
     },
     "output_type": "display_data"
    }
   ],
   "source": [
    "plt.suptitle(\"Train\")\n",
    "\n",
    "plt.figure(figsize=(15,8))\n",
    "plt.subplot(1, 2, 1)\n",
    "plt.title(\"Train Loss\")\n",
    "plt.plot(losses_train)\n",
    "\n",
    "plt.subplot(1, 2, 2)\n",
    "plt.title(\"Train Accuracy\")\n",
    "plt.plot(accs_train)"
   ]
  },
  {
   "cell_type": "code",
   "execution_count": 19,
   "id": "small-burton",
   "metadata": {
    "execution": {
     "iopub.execute_input": "2021-06-15T19:40:38.961905Z",
     "iopub.status.busy": "2021-06-15T19:40:38.956094Z",
     "iopub.status.idle": "2021-06-15T19:40:39.177270Z",
     "shell.execute_reply": "2021-06-15T19:40:39.176750Z"
    },
    "papermill": {
     "duration": 0.296824,
     "end_time": "2021-06-15T19:40:39.177395",
     "exception": false,
     "start_time": "2021-06-15T19:40:38.880571",
     "status": "completed"
    },
    "tags": []
   },
   "outputs": [
    {
     "data": {
      "text/plain": [
       "[<matplotlib.lines.Line2D at 0x7fc5cef74050>]"
      ]
     },
     "execution_count": 19,
     "metadata": {},
     "output_type": "execute_result"
    },
    {
     "data": {
      "text/plain": [
       "<Figure size 432x288 with 0 Axes>"
      ]
     },
     "metadata": {},
     "output_type": "display_data"
    },
    {
     "data": {
      "image/png": "[encoded data removed]",
      "text/plain": [
       "<Figure size 1080x576 with 2 Axes>"
      ]
     },
     "metadata": {
      "needs_background": "light"
     },
     "output_type": "display_data"
    }
   ],
   "source": [
    "plt.suptitle(\"Valid\")\n",
    "\n",
    "plt.figure(figsize=(15,8))\n",
    "plt.subplot(1, 2, 1)\n",
    "plt.title(\"Valid Loss\")\n",
    "plt.plot(losses_valid)\n",
    "\n",
    "plt.subplot(1, 2, 2)\n",
    "plt.title(\"Valid Accuracy\")\n",
    "plt.plot(accs_valid)"
   ]
  },
  {
   "cell_type": "code",
   "execution_count": 20,
   "id": "separate-exhibition",
   "metadata": {
    "execution": {
     "iopub.execute_input": "2021-06-15T19:40:39.273177Z",
     "iopub.status.busy": "2021-06-15T19:40:39.257685Z",
     "iopub.status.idle": "2021-06-15T19:40:39.520657Z",
     "shell.execute_reply": "2021-06-15T19:40:39.519811Z"
    },
    "papermill": {
     "duration": 0.304444,
     "end_time": "2021-06-15T19:40:39.520798",
     "exception": false,
     "start_time": "2021-06-15T19:40:39.216354",
     "status": "completed"
    },
    "tags": []
   },
   "outputs": [],
   "source": [
    "torch.save(densenet,'./Shahar_DenseNetPreTrainedModel.h5')"
   ]
  },
  {
   "cell_type": "code",
   "execution_count": 21,
   "id": "departmental-blend",
   "metadata": {
    "execution": {
     "iopub.execute_input": "2021-06-15T19:40:39.601522Z",
     "iopub.status.busy": "2021-06-15T19:40:39.600992Z",
     "iopub.status.idle": "2021-06-15T19:40:39.604402Z",
     "shell.execute_reply": "2021-06-15T19:40:39.604785Z"
    },
    "papermill": {
     "duration": 0.045268,
     "end_time": "2021-06-15T19:40:39.604912",
     "exception": false,
     "start_time": "2021-06-15T19:40:39.559644",
     "status": "completed"
    },
    "tags": []
   },
   "outputs": [],
   "source": [
    "# torch.save({\n",
    "#             'model_state_dict': googlenet_model.state_dict(),\n",
    "#             'optimizer_state_dict': opt.state_dict(),\n",
    "#             }, './Shahar_GoogleNetPreTrainedModel.h5')"
   ]
  }
 ],
 "metadata": {
  "kernelspec": {
   "display_name": "Python 3",
   "language": "python",
   "name": "python3"
  },
  "language_info": {
   "codemirror_mode": {
    "name": "ipython",
    "version": 3
   },
   "file_extension": ".py",
   "mimetype": "text/x-python",
   "name": "python",
   "nbconvert_exporter": "python",
   "pygments_lexer": "ipython3",
   "version": "3.7.10"
  },
  "papermill": {
   "default_parameters": {},
   "duration": 31811.870444,
   "end_time": "2021-06-15T19:40:42.464082",
   "environment_variables": {},
   "exception": null,
   "input_path": "__notebook__.ipynb",
   "output_path": "__notebook__.ipynb",
   "parameters": {},
   "start_time": "2021-06-15T10:50:30.593638",
   "version": "2.3.3"
  },
  "widgets": {
   "application/vnd.jupyter.widget-state+json": {
    "state": {
     "09d74dc55a81473c90c2463e27de8b4a": {
      "model_module": "@jupyter-widgets/controls",
      "model_module_version": "1.5.0",
      "model_name": "HTMLModel",
      "state": {
       "_dom_classes": [],
       "_model_module": "@jupyter-widgets/controls",
       "_model_module_version": "1.5.0",
       "_model_name": "HTMLModel",
       "_view_count": null,
       "_view_module": "@jupyter-widgets/controls",
       "_view_module_version": "1.5.0",
       "_view_name": "HTMLView",
       "description": "",
       "description_tooltip": null,
       "layout": "IPY_MODEL_48048aec5ab743589046c27e180c18b3",
       "placeholder": "​",
       "style": "IPY_MODEL_ce151127cb0a41c1937c82f50c4c0f9c",
       "value": " 110M/110M [00:01&lt;00:00, 130MB/s]"
      }
     },
     "0cda86cee56648ed854af3688b7bf356": {
      "model_module": "@jupyter-widgets/controls",
      "model_module_version": "1.5.0",
      "model_name": "FloatProgressModel",
      "state": {
       "_dom_classes": [],
       "_model_module": "@jupyter-widgets/controls",
       "_model_module_version": "1.5.0",
       "_model_name": "FloatProgressModel",
       "_view_count": null,
       "_view_module": "@jupyter-widgets/controls",
       "_view_module_version": "1.5.0",
       "_view_name": "ProgressView",
       "bar_style": "success",
       "description": "",
       "description_tooltip": null,
       "layout": "IPY_MODEL_572a3957ba3246e6a9671bfb98dcbd13",
       "max": 115730790.0,
       "min": 0.0,
       "orientation": "horizontal",
       "style": "IPY_MODEL_322abeda738e43d497297a8a94832970",
       "value": 115730790.0
      }
     },
     "1522dc70d2074071ad7358778b81b761": {
      "model_module": "@jupyter-widgets/base",
      "model_module_version": "1.2.0",
      "model_name": "LayoutModel",
      "state": {
       "_model_module": "@jupyter-widgets/base",
       "_model_module_version": "1.2.0",
       "_model_name": "LayoutModel",
       "_view_count": null,
       "_view_module": "@jupyter-widgets/base",
       "_view_module_version": "1.2.0",
       "_view_name": "LayoutView",
       "align_content": null,
       "align_items": null,
       "align_self": null,
       "border": null,
       "bottom": null,
       "display": null,
       "flex": null,
       "flex_flow": null,
       "grid_area": null,
       "grid_auto_columns": null,
       "grid_auto_flow": null,
       "grid_auto_rows": null,
       "grid_column": null,
       "grid_gap": null,
       "grid_row": null,
       "grid_template_areas": null,
       "grid_template_columns": null,
       "grid_template_rows": null,
       "height": null,
       "justify_content": null,
       "justify_items": null,
       "left": null,
       "margin": null,
       "max_height": null,
       "max_width": null,
       "min_height": null,
       "min_width": null,
       "object_fit": null,
       "object_position": null,
       "order": null,
       "overflow": null,
       "overflow_x": null,
       "overflow_y": null,
       "padding": null,
       "right": null,
       "top": null,
       "visibility": null,
       "width": null
      }
     },
     "24380f8388c54913ac080bd705e7fe6a": {
      "model_module": "@jupyter-widgets/controls",
      "model_module_version": "1.5.0",
      "model_name": "HBoxModel",
      "state": {
       "_dom_classes": [],
       "_model_module": "@jupyter-widgets/controls",
       "_model_module_version": "1.5.0",
       "_model_name": "HBoxModel",
       "_view_count": null,
       "_view_module": "@jupyter-widgets/controls",
       "_view_module_version": "1.5.0",
       "_view_name": "HBoxView",
       "box_style": "",
       "children": [
        "IPY_MODEL_28bb44c2277d4afb94b52f934e04743c",
        "IPY_MODEL_0cda86cee56648ed854af3688b7bf356",
        "IPY_MODEL_09d74dc55a81473c90c2463e27de8b4a"
       ],
       "layout": "IPY_MODEL_718a9e897fc04d90b84f20159ed7cf2b"
      }
     },
     "28bb44c2277d4afb94b52f934e04743c": {
      "model_module": "@jupyter-widgets/controls",
      "model_module_version": "1.5.0",
      "model_name": "HTMLModel",
      "state": {
       "_dom_classes": [],
       "_model_module": "@jupyter-widgets/controls",
       "_model_module_version": "1.5.0",
       "_model_name": "HTMLModel",
       "_view_count": null,
       "_view_module": "@jupyter-widgets/controls",
       "_view_module_version": "1.5.0",
       "_view_name": "HTMLView",
       "description": "",
       "description_tooltip": null,
       "layout": "IPY_MODEL_1522dc70d2074071ad7358778b81b761",
       "placeholder": "​",
       "style": "IPY_MODEL_a8f68b0389d0445a821a72fa67d17e3a",
       "value": "100%"
      }
     },
     "322abeda738e43d497297a8a94832970": {
      "model_module": "@jupyter-widgets/controls",
      "model_module_version": "1.5.0",
      "model_name": "ProgressStyleModel",
      "state": {
       "_model_module": "@jupyter-widgets/controls",
       "_model_module_version": "1.5.0",
       "_model_name": "ProgressStyleModel",
       "_view_count": null,
       "_view_module": "@jupyter-widgets/base",
       "_view_module_version": "1.2.0",
       "_view_name": "StyleView",
       "bar_color": null,
       "description_width": ""
      }
     },
     "48048aec5ab743589046c27e180c18b3": {
      "model_module": "@jupyter-widgets/base",
      "model_module_version": "1.2.0",
      "model_name": "LayoutModel",
      "state": {
       "_model_module": "@jupyter-widgets/base",
       "_model_module_version": "1.2.0",
       "_model_name": "LayoutModel",
       "_view_count": null,
       "_view_module": "@jupyter-widgets/base",
       "_view_module_version": "1.2.0",
       "_view_name": "LayoutView",
       "align_content": null,
       "align_items": null,
       "align_self": null,
       "border": null,
       "bottom": null,
       "display": null,
       "flex": null,
       "flex_flow": null,
       "grid_area": null,
       "grid_auto_columns": null,
       "grid_auto_flow": null,
       "grid_auto_rows": null,
       "grid_column": null,
       "grid_gap": null,
       "grid_row": null,
       "grid_template_areas": null,
       "grid_template_columns": null,
       "grid_template_rows": null,
       "height": null,
       "justify_content": null,
       "justify_items": null,
       "left": null,
       "margin": null,
       "max_height": null,
       "max_width": null,
       "min_height": null,
       "min_width": null,
       "object_fit": null,
       "object_position": null,
       "order": null,
       "overflow": null,
       "overflow_x": null,
       "overflow_y": null,
       "padding": null,
       "right": null,
       "top": null,
       "visibility": null,
       "width": null
      }
     },
     "572a3957ba3246e6a9671bfb98dcbd13": {
      "model_module": "@jupyter-widgets/base",
      "model_module_version": "1.2.0",
      "model_name": "LayoutModel",
      "state": {
       "_model_module": "@jupyter-widgets/base",
       "_model_module_version": "1.2.0",
       "_model_name": "LayoutModel",
       "_view_count": null,
       "_view_module": "@jupyter-widgets/base",
       "_view_module_version": "1.2.0",
       "_view_name": "LayoutView",
       "align_content": null,
       "align_items": null,
       "align_self": null,
       "border": null,
       "bottom": null,
       "display": null,
       "flex": null,
       "flex_flow": null,
       "grid_area": null,
       "grid_auto_columns": null,
       "grid_auto_flow": null,
       "grid_auto_rows": null,
       "grid_column": null,
       "grid_gap": null,
       "grid_row": null,
       "grid_template_areas": null,
       "grid_template_columns": null,
       "grid_template_rows": null,
       "height": null,
       "justify_content": null,
       "justify_items": null,
       "left": null,
       "margin": null,
       "max_height": null,
       "max_width": null,
       "min_height": null,
       "min_width": null,
       "object_fit": null,
       "object_position": null,
       "order": null,
       "overflow": null,
       "overflow_x": null,
       "overflow_y": null,
       "padding": null,
       "right": null,
       "top": null,
       "visibility": null,
       "width": null
      }
     },
     "718a9e897fc04d90b84f20159ed7cf2b": {
      "model_module": "@jupyter-widgets/base",
      "model_module_version": "1.2.0",
      "model_name": "LayoutModel",
      "state": {
       "_model_module": "@jupyter-widgets/base",
       "_model_module_version": "1.2.0",
       "_model_name": "LayoutModel",
       "_view_count": null,
       "_view_module": "@jupyter-widgets/base",
       "_view_module_version": "1.2.0",
       "_view_name": "LayoutView",
       "align_content": null,
       "align_items": null,
       "align_self": null,
       "border": null,
       "bottom": null,
       "display": null,
       "flex": null,
       "flex_flow": null,
       "grid_area": null,
       "grid_auto_columns": null,
       "grid_auto_flow": null,
       "grid_auto_rows": null,
       "grid_column": null,
       "grid_gap": null,
       "grid_row": null,
       "grid_template_areas": null,
       "grid_template_columns": null,
       "grid_template_rows": null,
       "height": null,
       "justify_content": null,
       "justify_items": null,
       "left": null,
       "margin": null,
       "max_height": null,
       "max_width": null,
       "min_height": null,
       "min_width": null,
       "object_fit": null,
       "object_position": null,
       "order": null,
       "overflow": null,
       "overflow_x": null,
       "overflow_y": null,
       "padding": null,
       "right": null,
       "top": null,
       "visibility": null,
       "width": null
      }
     },
     "a8f68b0389d0445a821a72fa67d17e3a": {
      "model_module": "@jupyter-widgets/controls",
      "model_module_version": "1.5.0",
      "model_name": "DescriptionStyleModel",
      "state": {
       "_model_module": "@jupyter-widgets/controls",
       "_model_module_version": "1.5.0",
       "_model_name": "DescriptionStyleModel",
       "_view_count": null,
       "_view_module": "@jupyter-widgets/base",
       "_view_module_version": "1.2.0",
       "_view_name": "StyleView",
       "description_width": ""
      }
     },
     "ce151127cb0a41c1937c82f50c4c0f9c": {
      "model_module": "@jupyter-widgets/controls",
      "model_module_version": "1.5.0",
      "model_name": "DescriptionStyleModel",
      "state": {
       "_model_module": "@jupyter-widgets/controls",
       "_model_module_version": "1.5.0",
       "_model_name": "DescriptionStyleModel",
       "_view_count": null,
       "_view_module": "@jupyter-widgets/base",
       "_view_module_version": "1.2.0",
       "_view_name": "StyleView",
       "description_width": ""
      }
     }
    },
    "version_major": 2,
    "version_minor": 0
   }
  }
 },
 "nbformat": 4,
 "nbformat_minor": 5
}
